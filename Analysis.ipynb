{
 "cells": [
  {
   "cell_type": "markdown",
   "id": "f98539ac-a10c-480a-84ab-b2fcd1efd5b7",
   "metadata": {
    "slideshow": {
     "slide_type": "slide"
    }
   },
   "source": [
    "<h1  style= \"background-color: gray;\n",
    "                 color:white;\n",
    "            text-align: center; \n",
    "            font-family:Helvetica, Arial, verdana, sans-serif\"> Mise en place d'un algorithme de détection de faux billets.</h1>\n",
    "<br>"
   ]
  },
  {
   "cell_type": "code",
   "execution_count": 66,
   "id": "7840d731",
   "metadata": {
    "slideshow": {
     "slide_type": "skip"
    }
   },
   "outputs": [
    {
     "data": {
      "text/html": [
       "\n",
       "        <script>\n",
       "            function code_toggle_7148298779928188191() {\n",
       "                $('div.cell.code_cell.rendered.selected').find('div.input').toggle();\n",
       "            }\n",
       "\n",
       "            \n",
       "        </script>\n",
       "\n",
       "        <a href=\"javascript:code_toggle_7148298779928188191()\">Toggle show/hide</a>\n",
       "    "
      ],
      "text/plain": [
       "<IPython.core.display.HTML object>"
      ]
     },
     "execution_count": 66,
     "metadata": {},
     "output_type": "execute_result"
    }
   ],
   "source": [
    "import pandas as pd\n",
    "import numpy as np\n",
    "import seaborn as sns\n",
    "import matplotlib.pyplot as plt\n",
    "import statsmodels\n",
    "import researchpy\n",
    "import statsmodels.stats.api as sms\n",
    "import statsmodels.formula.api as smf\n",
    "import statsmodels.api as sm\n",
    "import scipy.stats as st\n",
    "\n",
    "from statsmodels.compat import lzip\n",
    "from statsmodels.stats.outliers_influence import variance_inflation_factor\n",
    "from scipy.stats import chi2_contingency,t, shapiro\n",
    "\n",
    "from matplotlib.colors import ListedColormap\n",
    "from mpl_toolkits.mplot3d import Axes3D\n",
    "\n",
    "\n",
    "from sklearn.preprocessing import StandardScaler, LabelEncoder\n",
    "from sklearn.decomposition import PCA\n",
    "from sklearn.cluster import KMeans\n",
    "from sklearn.model_selection import GridSearchCV,cross_val_score, StratifiedKFold, train_test_split\n",
    "from sklearn.linear_model import LogisticRegression, LinearRegression, Ridge, Lasso, SGDRegressor\n",
    "from sklearn.pipeline import Pipeline\n",
    "from sklearn import metrics\n",
    "\n",
    "from functions import *\n",
    "from time import time\n",
    "\n",
    "hide_toggle()"
   ]
  },
  {
   "cell_type": "code",
   "execution_count": 67,
   "id": "55bf33f6",
   "metadata": {
    "slideshow": {
     "slide_type": "skip"
    }
   },
   "outputs": [
    {
     "data": {
      "text/html": [
       "\n",
       "            <div>\n",
       "                <p><b>SparkSession - in-memory</b></p>\n",
       "                \n",
       "        <div>\n",
       "            <p><b>SparkContext</b></p>\n",
       "\n",
       "            <p><a href=\"http://192.168.1.27:4040\">Spark UI</a></p>\n",
       "\n",
       "            <dl>\n",
       "              <dt>Version</dt>\n",
       "                <dd><code>v3.3.0</code></dd>\n",
       "              <dt>Master</dt>\n",
       "                <dd><code>local[*]</code></dd>\n",
       "              <dt>AppName</dt>\n",
       "                <dd><code>Praticing</code></dd>\n",
       "            </dl>\n",
       "        </div>\n",
       "        \n",
       "            </div>\n",
       "        "
      ],
      "text/plain": [
       "<pyspark.sql.session.SparkSession at 0x2e7d140c340>"
      ]
     },
     "execution_count": 67,
     "metadata": {},
     "output_type": "execute_result"
    }
   ],
   "source": [
    "import pyspark\n",
    "from pyspark.sql import SparkSession\n",
    "spark = SparkSession.builder.appName(\"Praticing\").getOrCreate()\n",
    "spark"
   ]
  },
  {
   "cell_type": "markdown",
   "id": "16f7c180-be52-42da-9856-7ce3e91fd39d",
   "metadata": {
    "slideshow": {
     "slide_type": "skip"
    }
   },
   "source": [
    "# Sommaire :\n",
    "\n",
    "**1. Data Preprocessing**\n",
    "- <a href=\"#C1\">1.1. Description du jeu de données</a>\n",
    "- <a href=\"#C2\">1.2. Traitement des valeurs manquantes</a>\n",
    "- <a href=\"#C3\">1.3. Analyse univariée </a>\n",
    "\n",
    "\n",
    "**2. Clustering (kmeans)**\n",
    "- <a href=\"#C4\">2.1. Analyse en Composantes Principales</a>\n",
    "- <a href=\"#C5\">2.2. Nombre optimal des clusters </a>\n",
    "- <a href=\"#C6\">2.3. Kmeans </a>\n",
    "\n",
    "**3. Regression Logistique**\n",
    "- <a href=\"#C7\">3.1. Implémentation</a>\n",
    "- <a href=\"#C8\">3.2. Évaluation </a>\n",
    "- <a href=\"#C9\">3.3. Optimisation </a>\n",
    "\n",
    "**4. Test des modèles**\n",
    "- <a href=\"#C10\"> 4.1. Préparation de l'échatillon</a>\n",
    "- <a href=\"#C11\"> 4.2. Implémentation de la fonction </a>\n",
    "- <a href=\"#C12\"> 4.3. Résultats des tests</a>\n",
    "\n",
    "**5. Application Streamlit**\n",
    "- <a href=\"#C13\"> 5.1. Présentation de l'application.</a>\n"
   ]
  },
  {
   "cell_type": "markdown",
   "id": "0202dade-5d30-4253-bd8a-e6c4da7ac882",
   "metadata": {
    "slideshow": {
     "slide_type": "slide"
    }
   },
   "source": [
    "<h2><center>Contexte</center></h2> </br>\n",
    "Ce projet consiste à mettre en place un algorithme qui permettra d’identifier automatiquement des contrefaçons des billets en euros à partir leurs dimensions et des éléments qui les composent.\n",
    "\n",
    "Nous avons à notre disposition un jeu de données contenant les mésures géométriques de 1500 billets dont 1 000 sont vrais et 500 sont faux et une variable précisant la nature du billet."
   ]
  },
  {
   "cell_type": "markdown",
   "id": "91191463-4339-499d-ad61-eb6bed7e4b4f",
   "metadata": {
    "slideshow": {
     "slide_type": "slide"
    }
   },
   "source": [
    "\n",
    "**Phase 1** : Data-preprocessing\n",
    "\n",
    "**Phase 2** : Clustering\n",
    "\n",
    "**Phase 3** : Régression logistique\n",
    "\n",
    "**Phase 4** : Test des modèles \n",
    "\n",
    "**Phase 5** : Application frontend "
   ]
  },
  {
   "cell_type": "markdown",
   "id": "ce1ecadd-df83-43e2-9685-abc739a4a253",
   "metadata": {
    "slideshow": {
     "slide_type": "slide"
    }
   },
   "source": [
    "<h2><center>1. Data pre-processing</center></h2>"
   ]
  },
  {
   "cell_type": "markdown",
   "id": "b127b973-e6f5-4786-9620-a547a63245df",
   "metadata": {
    "slideshow": {
     "slide_type": "slide"
    },
    "tags": []
   },
   "source": [
    "##  <a name=\"C1\"> 1.1. Description du jeu de données"
   ]
  },
  {
   "cell_type": "code",
   "execution_count": 105,
   "id": "ce72645d-8afa-49bd-b40f-c64532b55ec0",
   "metadata": {
    "slideshow": {
     "slide_type": "fragment"
    }
   },
   "outputs": [
    {
     "name": "stdout",
     "output_type": "stream",
     "text": [
      "Data Header\n",
      "+----------+--------+-----------+------------+----------+---------+------+\n",
      "|is_genuine|diagonal|height_left|height_right|margin_low|margin_up|length|\n",
      "+----------+--------+-----------+------------+----------+---------+------+\n",
      "|      true|  171.81|     104.86|      104.95|      4.52|     2.89|112.83|\n",
      "|      true|  171.46|     103.36|      103.66|      3.77|     2.99|113.09|\n",
      "|      true|  172.69|     104.48|       103.5|       4.4|     2.94|113.16|\n",
      "|      true|  171.36|     103.91|      103.94|      3.62|     3.01|113.51|\n",
      "|      true|  171.73|     104.28|      103.46|      4.04|     3.48|112.54|\n",
      "+----------+--------+-----------+------------+----------+---------+------+\n",
      "only showing top 5 rows\n",
      "\n"
     ]
    },
    {
     "data": {
      "text/html": [
       "\n",
       "        <script>\n",
       "            function code_toggle_7478589365530107051() {\n",
       "                $('div.cell.code_cell.rendered.selected').find('div.input').toggle();\n",
       "            }\n",
       "\n",
       "            \n",
       "        </script>\n",
       "\n",
       "        <a href=\"javascript:code_toggle_7478589365530107051()\">Toggle show/hide</a>\n",
       "    "
      ],
      "text/plain": [
       "<IPython.core.display.HTML object>"
      ]
     },
     "execution_count": 105,
     "metadata": {},
     "output_type": "execute_result"
    }
   ],
   "source": [
    "data_spark = spark.read.csv(\"./data/billets.csv\", sep=\";\", header=True, inferSchema=True)\n",
    "data = data_spark.toPandas()\n",
    "print(\"Data Header\")\n",
    "data_spark.show(5)\n",
    "\n",
    "hide_toggle()"
   ]
  },
  {
   "cell_type": "code",
   "execution_count": 106,
   "id": "be2de790",
   "metadata": {
    "slideshow": {
     "slide_type": "skip"
    }
   },
   "outputs": [
    {
     "name": "stdout",
     "output_type": "stream",
     "text": [
      "Data Summary\n",
      "+-------+-------------------+------------------+-------------------+-----------------+------------------+------------------+\n",
      "|summary|           diagonal|       height_left|       height_right|       margin_low|         margin_up|            length|\n",
      "+-------+-------------------+------------------+-------------------+-----------------+------------------+------------------+\n",
      "|  count|               1500|              1500|               1500|             1463|              1500|              1500|\n",
      "|   mean|  171.9584399999998|104.02953333333326| 103.92030666666666|4.485967190704034|3.1514733333333296|112.67850000000006|\n",
      "| stddev|0.30519512191649706|0.2994616843980043|0.32562707906224553|0.663812624177341|0.2318131161865377|0.8727298101633406|\n",
      "|    min|             171.04|            103.14|             102.82|             2.98|              2.27|            109.49|\n",
      "|    25%|             171.75|            103.82|             103.71|             4.01|              2.99|            112.03|\n",
      "|    50%|             171.96|            104.04|             103.92|             4.31|              3.14|            112.96|\n",
      "|    75%|             172.17|            104.23|             104.15|             4.87|              3.31|            113.34|\n",
      "|    max|             173.01|            104.88|             104.95|              6.9|              3.91|            114.44|\n",
      "+-------+-------------------+------------------+-------------------+-----------------+------------------+------------------+\n",
      "\n"
     ]
    },
    {
     "data": {
      "text/html": [
       "\n",
       "        <script>\n",
       "            function code_toggle_15619795560131440382() {\n",
       "                $('div.cell.code_cell.rendered.selected').find('div.input').toggle();\n",
       "            }\n",
       "\n",
       "            \n",
       "        </script>\n",
       "\n",
       "        <a href=\"javascript:code_toggle_15619795560131440382()\">Toggle show/hide</a>\n",
       "    "
      ],
      "text/plain": [
       "<IPython.core.display.HTML object>"
      ]
     },
     "execution_count": 106,
     "metadata": {},
     "output_type": "execute_result"
    }
   ],
   "source": [
    "print(\"Data Summary\")\n",
    "data_spark.summary().show()\n",
    "\n",
    "hide_toggle()"
   ]
  },
  {
   "cell_type": "code",
   "execution_count": 107,
   "id": "60f57202",
   "metadata": {
    "slideshow": {
     "slide_type": "slide"
    }
   },
   "outputs": [
    {
     "name": "stdout",
     "output_type": "stream",
     "text": [
      "<class 'pandas.core.frame.DataFrame'>\n",
      "RangeIndex: 1500 entries, 0 to 1499\n",
      "Data columns (total 7 columns):\n",
      " #   Column        Non-Null Count  Dtype  \n",
      "---  ------        --------------  -----  \n",
      " 0   is_genuine    1500 non-null   bool   \n",
      " 1   diagonal      1500 non-null   float64\n",
      " 2   height_left   1500 non-null   float64\n",
      " 3   height_right  1500 non-null   float64\n",
      " 4   margin_low    1463 non-null   float64\n",
      " 5   margin_up     1500 non-null   float64\n",
      " 6   length        1500 non-null   float64\n",
      "dtypes: bool(1), float64(6)\n",
      "memory usage: 71.9 KB\n"
     ]
    },
    {
     "data": {
      "text/html": [
       "\n",
       "        <script>\n",
       "            function code_toggle_10710784610198425122() {\n",
       "                $('div.cell.code_cell.rendered.selected').find('div.input').toggle();\n",
       "            }\n",
       "\n",
       "            \n",
       "        </script>\n",
       "\n",
       "        <a href=\"javascript:code_toggle_10710784610198425122()\">Toggle show/hide</a>\n",
       "    "
      ],
      "text/plain": [
       "<IPython.core.display.HTML object>"
      ]
     },
     "execution_count": 107,
     "metadata": {},
     "output_type": "execute_result"
    }
   ],
   "source": [
    "data.info()\n",
    "\n",
    "hide_toggle()"
   ]
  },
  {
   "cell_type": "markdown",
   "id": "81aa4aa5-fe4c-48c6-a07b-0362d1af0369",
   "metadata": {
    "slideshow": {
     "slide_type": "slide"
    },
    "tags": []
   },
   "source": [
    "##  <a name=\"C2\"> 1.2. Traitement des valeurs manquantes </a>"
   ]
  },
  {
   "cell_type": "markdown",
   "id": "968cb473-97b2-454b-9de2-5ff0f60518e6",
   "metadata": {
    "slideshow": {
     "slide_type": "fragment"
    }
   },
   "source": [
    "**Solution** : **prédire** les valeurs manquantes sur la variable **margin low**"
   ]
  },
  {
   "cell_type": "markdown",
   "id": "4677ac98",
   "metadata": {
    "slideshow": {
     "slide_type": "slide"
    }
   },
   "source": [
    "### 1.2.1. Regression Linéaire (statsmodel)"
   ]
  },
  {
   "cell_type": "code",
   "execution_count": 108,
   "id": "e421116e-f23d-4435-ad57-3622a26251d9",
   "metadata": {
    "slideshow": {
     "slide_type": "skip"
    }
   },
   "outputs": [
    {
     "data": {
      "text/html": [
       "\n",
       "        <script>\n",
       "            function code_toggle_1316219433607024484() {\n",
       "                $('div.cell.code_cell.rendered.selected').find('div.input').toggle();\n",
       "            }\n",
       "\n",
       "            \n",
       "        </script>\n",
       "\n",
       "        <a href=\"javascript:code_toggle_1316219433607024484()\">Toggle show/hide</a>\n",
       "    "
      ],
      "text/plain": [
       "<IPython.core.display.HTML object>"
      ]
     },
     "execution_count": 108,
     "metadata": {},
     "output_type": "execute_result"
    }
   ],
   "source": [
    "# On prépare les données\n",
    "df = data.copy()\n",
    "df[\"is_genuine\"].replace([True, False],[1,0], inplace=True)\n",
    "df_na = df[df[\"margin_low\"].isnull()]\n",
    "df.dropna(inplace=True)\n",
    "hide_toggle()"
   ]
  },
  {
   "cell_type": "code",
   "execution_count": 109,
   "id": "ad25a562-07d6-4243-8d3f-ca565fd0e29a",
   "metadata": {
    "slideshow": {
     "slide_type": "fragment"
    }
   },
   "outputs": [
    {
     "name": "stdout",
     "output_type": "stream",
     "text": [
      "                            OLS Regression Results                            \n",
      "==============================================================================\n",
      "Dep. Variable:             margin_low   R-squared:                       0.617\n",
      "Model:                            OLS   Adj. R-squared:                  0.615\n",
      "Method:                 Least Squares   F-statistic:                     390.7\n",
      "Date:                Mon, 11 Jul 2022   Prob (F-statistic):          4.75e-299\n",
      "Time:                        11:36:39   Log-Likelihood:                -774.14\n",
      "No. Observations:                1463   AIC:                             1562.\n",
      "Df Residuals:                    1456   BIC:                             1599.\n",
      "Df Model:                           6                                         \n",
      "Covariance Type:            nonrobust                                         \n",
      "================================================================================\n",
      "                   coef    std err          t      P>|t|      [0.025      0.975]\n",
      "--------------------------------------------------------------------------------\n",
      "Intercept        2.8668      8.316      0.345      0.730     -13.445      19.179\n",
      "is_genuine      -1.1406      0.050    -23.028      0.000      -1.238      -1.043\n",
      "diagonal        -0.0130      0.036     -0.364      0.716      -0.083       0.057\n",
      "height_left      0.0283      0.039      0.727      0.468      -0.048       0.105\n",
      "height_right     0.0267      0.038      0.701      0.484      -0.048       0.102\n",
      "margin_up       -0.2128      0.059     -3.621      0.000      -0.328      -0.098\n",
      "length          -0.0039      0.023     -0.166      0.868      -0.050       0.042\n",
      "==============================================================================\n",
      "Omnibus:                       21.975   Durbin-Watson:                   2.038\n",
      "Prob(Omnibus):                  0.000   Jarque-Bera (JB):               37.993\n",
      "Skew:                           0.061   Prob(JB):                     5.62e-09\n",
      "Kurtosis:                       3.780   Cond. No.                     1.95e+05\n",
      "==============================================================================\n",
      "\n",
      "Notes:\n",
      "[1] Standard Errors assume that the covariance matrix of the errors is correctly specified.\n",
      "[2] The condition number is large, 1.95e+05. This might indicate that there are\n",
      "strong multicollinearity or other numerical problems.\n"
     ]
    },
    {
     "data": {
      "text/html": [
       "\n",
       "        <script>\n",
       "            function code_toggle_8757153466863770071() {\n",
       "                $('div.cell.code_cell.rendered.selected').find('div.input').toggle();\n",
       "            }\n",
       "\n",
       "            \n",
       "        </script>\n",
       "\n",
       "        <a href=\"javascript:code_toggle_8757153466863770071()\">Toggle show/hide</a>\n",
       "    "
      ],
      "text/plain": [
       "<IPython.core.display.HTML object>"
      ]
     },
     "execution_count": 109,
     "metadata": {},
     "output_type": "execute_result"
    }
   ],
   "source": [
    "#On prépare le modèle\n",
    "import statsmodels.formula.api as smf\n",
    "model_reg_multi = smf.ols('margin_low~is_genuine+diagonal+height_left+height_right+margin_up+length', data=df).fit()\n",
    "print(model_reg_multi.summary())\n",
    "\n",
    "hide_toggle()"
   ]
  },
  {
   "cell_type": "markdown",
   "id": "72be9fc4-39c9-4166-b722-9d0dd679c664",
   "metadata": {
    "slideshow": {
     "slide_type": "skip"
    }
   },
   "source": [
    "<div  class=\"alert-info\"> On constate ici que certains paramètres ne sont pas significativement différents de 0, car leur p-valeur n'est pas inférieure à 5 %.\n",
    "Le  𝑅2  vaut environ 0.617, et le  𝑅2  ajusté est d'environ 0.615. </div>"
   ]
  },
  {
   "cell_type": "markdown",
   "id": "b96bdfc3",
   "metadata": {
    "slideshow": {
     "slide_type": "slide"
    }
   },
   "source": [
    "**On retire les valeurs nin significatives...**"
   ]
  },
  {
   "cell_type": "code",
   "execution_count": 110,
   "id": "78e5e3bf-1daf-4680-b00c-2c23e76b7d89",
   "metadata": {
    "slideshow": {
     "slide_type": "-"
    }
   },
   "outputs": [
    {
     "name": "stdout",
     "output_type": "stream",
     "text": [
      "                            OLS Regression Results                            \n",
      "==============================================================================\n",
      "Dep. Variable:             margin_low   R-squared:                       0.617\n",
      "Model:                            OLS   Adj. R-squared:                  0.616\n",
      "Method:                 Least Squares   F-statistic:                     1174.\n",
      "Date:                Mon, 11 Jul 2022   Prob (F-statistic):          1.24e-304\n",
      "Time:                        11:36:39   Log-Likelihood:                -774.73\n",
      "No. Observations:                1463   AIC:                             1555.\n",
      "Df Residuals:                    1460   BIC:                             1571.\n",
      "Df Model:                           2                                         \n",
      "Covariance Type:            nonrobust                                         \n",
      "==============================================================================\n",
      "                 coef    std err          t      P>|t|      [0.025      0.975]\n",
      "------------------------------------------------------------------------------\n",
      "Intercept      5.9263      0.198     30.003      0.000       5.539       6.314\n",
      "is_genuine    -1.1632      0.029    -40.477      0.000      -1.220      -1.107\n",
      "margin_up     -0.2119      0.059     -3.612      0.000      -0.327      -0.097\n",
      "==============================================================================\n",
      "Omnibus:                       22.365   Durbin-Watson:                   2.041\n",
      "Prob(Omnibus):                  0.000   Jarque-Bera (JB):               39.106\n",
      "Skew:                           0.057   Prob(JB):                     3.22e-09\n",
      "Kurtosis:                       3.793   Cond. No.                         65.0\n",
      "==============================================================================\n",
      "\n",
      "Notes:\n",
      "[1] Standard Errors assume that the covariance matrix of the errors is correctly specified.\n"
     ]
    },
    {
     "data": {
      "text/html": [
       "\n",
       "        <script>\n",
       "            function code_toggle_10888159379937457525() {\n",
       "                $('div.cell.code_cell.rendered.selected').find('div.input').toggle();\n",
       "            }\n",
       "\n",
       "            \n",
       "        </script>\n",
       "\n",
       "        <a href=\"javascript:code_toggle_10888159379937457525()\">Toggle show/hide</a>\n",
       "    "
      ],
      "text/plain": [
       "<IPython.core.display.HTML object>"
      ]
     },
     "execution_count": 110,
     "metadata": {},
     "output_type": "execute_result"
    }
   ],
   "source": [
    "#On retire les variables non significative...\n",
    "reg_multi = smf.ols('margin_low~is_genuine+margin_up', data=df).fit()\n",
    "print(reg_multi.summary())\n",
    "\n",
    "hide_toggle()"
   ]
  },
  {
   "cell_type": "markdown",
   "id": "f68c9f84-5441-45db-8da2-f1ff539d22c3",
   "metadata": {
    "slideshow": {
     "slide_type": "skip"
    }
   },
   "source": [
    "#### Analyses des résultats de la Regression Linéaire"
   ]
  },
  {
   "cell_type": "code",
   "execution_count": 111,
   "id": "df622342-f810-408d-9953-9db7e0a921f8",
   "metadata": {
    "slideshow": {
     "slide_type": "skip"
    }
   },
   "outputs": [],
   "source": [
    "# On va réaliser les tests à un niveau  𝛼 =5 %\n",
    "alpha = 0.05\n",
    "\n",
    "# Nombre d'individus\n",
    "n = df.shape[0]\n",
    "\n",
    "# Nombre de variables\n",
    "p = 3\n",
    "\n",
    "analyses = pd.DataFrame({'obs':np.arange(1, n+1)})"
   ]
  },
  {
   "cell_type": "markdown",
   "id": "3a6b1fa4-443b-46fc-8de7-b343e48d014b",
   "metadata": {
    "slideshow": {
     "slide_type": "skip"
    }
   },
   "source": [
    "#### Calcul des leviers (Atypicité des variables explicatives)"
   ]
  },
  {
   "cell_type": "markdown",
   "id": "856eaff1-6d24-4f4b-b49d-8bf6f2ab8603",
   "metadata": {
    "slideshow": {
     "slide_type": "skip"
    }
   },
   "source": [
    "On considère le seuil des leviers est de : $2∗\\frac{p}{n}$."
   ]
  },
  {
   "cell_type": "code",
   "execution_count": 112,
   "id": "cead6532-f327-484c-8439-f7c85dcad5aa",
   "metadata": {
    "slideshow": {
     "slide_type": "skip"
    }
   },
   "outputs": [],
   "source": [
    "analyses['levier'] = reg_multi.get_influence().hat_matrix_diag\n",
    "\n",
    "seuil_levier = 2*p/n"
   ]
  },
  {
   "cell_type": "code",
   "execution_count": 113,
   "id": "c8ad6f1f-16f9-4b84-a511-28c08cb068cc",
   "metadata": {
    "slideshow": {
     "slide_type": "skip"
    }
   },
   "outputs": [
    {
     "data": {
      "image/png": "[encoded data removed]",
      "text/plain": [
       "<Figure size 720x432 with 1 Axes>"
      ]
     },
     "metadata": {
      "needs_background": "light"
     },
     "output_type": "display_data"
    },
    {
     "data": {
      "text/html": [
       "\n",
       "        <script>\n",
       "            function code_toggle_6734956354377648222() {\n",
       "                $('div.cell.code_cell.rendered.selected').find('div.input').toggle();\n",
       "            }\n",
       "\n",
       "            \n",
       "        </script>\n",
       "\n",
       "        <a href=\"javascript:code_toggle_6734956354377648222()\">Toggle show/hide</a>\n",
       "    "
      ],
      "text/plain": [
       "<IPython.core.display.HTML object>"
      ]
     },
     "execution_count": 113,
     "metadata": {},
     "output_type": "execute_result"
    }
   ],
   "source": [
    "plt.figure(figsize=(10,6))\n",
    "plt.bar(analyses['obs'], analyses['levier'])\n",
    "plt.xticks(np.arange(0, 1500, step=5))\n",
    "plt.xlabel('Observation')\n",
    "plt.ylabel('Leviers')\n",
    "plt.plot([0, 1500], [seuil_levier, seuil_levier], color='r')\n",
    "plt.show()\n",
    "hide_toggle()"
   ]
  },
  {
   "cell_type": "code",
   "execution_count": 114,
   "id": "1abee881-d4eb-474b-b4d0-c06eab12e311",
   "metadata": {
    "slideshow": {
     "slide_type": "skip"
    }
   },
   "outputs": [
    {
     "name": "stdout",
     "output_type": "stream",
     "text": [
      "     obs    levier\n",
      "4      5  0.004748\n",
      "48    49  0.007353\n",
      "52    53  0.010647\n",
      "54    55  0.004408\n",
      "123  124  0.005865 \n",
      "\n",
      "67  observations supérieures aux seuils\n"
     ]
    }
   ],
   "source": [
    "obs_lev = analyses.loc[analyses['levier'] > seuil_levier, :]\n",
    "print(obs_lev.head(),\"\\n\")\n",
    "print(len(obs_lev),\" observations supérieures aux seuils\")"
   ]
  },
  {
   "cell_type": "markdown",
   "id": "663abf0b-0232-4254-9668-064b9371b53b",
   "metadata": {
    "slideshow": {
     "slide_type": "skip"
    }
   },
   "source": [
    "#### Calcul des résidus studentisés (Atypicité de la variable à expliquer)\n",
    "\n",
    "Si l'on souhaite maintenant calculer les résidus studentisés, nous écrivons ceci, sachant que le seuil pour les résidus studentisés est une loi de Student à n-p-1 degrés de liberté :"
   ]
  },
  {
   "cell_type": "code",
   "execution_count": 115,
   "id": "ba1b367c-5cf2-437e-9c2f-792aed1b37f2",
   "metadata": {
    "slideshow": {
     "slide_type": "skip"
    }
   },
   "outputs": [],
   "source": [
    "analyses['rstudent'] = reg_multi.get_influence().resid_studentized_internal\n",
    "seuil_rstudent = t.ppf(1-alpha/2,n-p-1)"
   ]
  },
  {
   "cell_type": "code",
   "execution_count": 116,
   "id": "af86585a-bd94-465d-a440-946af44fe69d",
   "metadata": {
    "slideshow": {
     "slide_type": "skip"
    }
   },
   "outputs": [
    {
     "data": {
      "image/png": "[encoded data removed]",
      "text/plain": [
       "<Figure size 720x432 with 1 Axes>"
      ]
     },
     "metadata": {
      "needs_background": "light"
     },
     "output_type": "display_data"
    },
    {
     "data": {
      "text/html": [
       "\n",
       "        <script>\n",
       "            function code_toggle_17835193700075370363() {\n",
       "                $('div.cell.code_cell.rendered.selected').find('div.input').toggle();\n",
       "            }\n",
       "\n",
       "            \n",
       "        </script>\n",
       "\n",
       "        <a href=\"javascript:code_toggle_17835193700075370363()\">Toggle show/hide</a>\n",
       "    "
      ],
      "text/plain": [
       "<IPython.core.display.HTML object>"
      ]
     },
     "execution_count": 116,
     "metadata": {},
     "output_type": "execute_result"
    }
   ],
   "source": [
    "plt.figure(figsize=(10,6))\n",
    "plt.bar(analyses['obs'], analyses['rstudent'])\n",
    "plt.xticks(np.arange(0, 1500, step=5))\n",
    "plt.xlabel('Observation')\n",
    "plt.ylabel('Résidus studentisés')\n",
    "plt.plot([0, 1500], [seuil_rstudent, seuil_rstudent], color='r')\n",
    "plt.plot([0, 1500], [-seuil_rstudent, -seuil_rstudent], color='r')\n",
    "plt.show()\n",
    "hide_toggle()"
   ]
  },
  {
   "cell_type": "code",
   "execution_count": 117,
   "id": "fd3371df-7483-4bbc-9c33-c3139707221f",
   "metadata": {
    "slideshow": {
     "slide_type": "skip"
    }
   },
   "outputs": [
    {
     "name": "stdout",
     "output_type": "stream",
     "text": [
      "       obs    levier  rstudent\n",
      "263    264  0.001906  1.965931\n",
      "684    685  0.001109  1.971901\n",
      "994    995  0.003095  2.514038\n",
      "998    999  0.002137  3.574963\n",
      "1000  1001  0.008380  2.227615 \n",
      "\n",
      "36  observations supérieures aux seuils\n"
     ]
    }
   ],
   "source": [
    "obs_rstu = analyses.loc[(analyses['rstudent'] > seuil_rstudent) & (analyses['rstudent'] > -seuil_rstudent)]\n",
    "print(obs_rstu.head(),\"\\n\")\n",
    "print(len(obs_rstu),\" observations supérieures aux seuils\")"
   ]
  },
  {
   "cell_type": "markdown",
   "id": "233d665b-a0f3-4a29-888f-39535f4b9df3",
   "metadata": {
    "slideshow": {
     "slide_type": "skip"
    }
   },
   "source": [
    "#### Calcul de la distance de Cook\n"
   ]
  },
  {
   "cell_type": "code",
   "execution_count": 118,
   "id": "c944b706-227c-4a21-9016-b6299829ae4e",
   "metadata": {
    "slideshow": {
     "slide_type": "skip"
    }
   },
   "outputs": [],
   "source": [
    "influence = reg_multi.get_influence().summary_frame()"
   ]
  },
  {
   "cell_type": "code",
   "execution_count": 119,
   "id": "7a3135a9-9092-4ffe-bc18-dbfe46283e63",
   "metadata": {
    "slideshow": {
     "slide_type": "skip"
    }
   },
   "outputs": [],
   "source": [
    "analyses['dcooks'] = influence['cooks_d']\n",
    "seuil_dcook = 3/(n-p)"
   ]
  },
  {
   "cell_type": "markdown",
   "id": "f6202529-31e2-47b0-bef3-f732b413916e",
   "metadata": {
    "slideshow": {
     "slide_type": "skip"
    }
   },
   "source": [
    "#### Test de la colinéarité des variables"
   ]
  },
  {
   "cell_type": "code",
   "execution_count": 120,
   "id": "caafb141-1f5a-49ba-8cf5-b39fdf13083b",
   "metadata": {
    "slideshow": {
     "slide_type": "skip"
    }
   },
   "outputs": [
    {
     "name": "stdout",
     "output_type": "stream",
     "text": [
      "VIF > 10 : Pas de problème de colinéarité\n",
      "VIF > 10 : Pas de problème de colinéarité\n",
      "VIF > 10 : Pas de problème de colinéarité\n",
      "VIF > 10 : Pas de problème de colinéarité\n",
      "VIF > 10 : Pas de problème de colinéarité\n",
      "VIF > 10 : Pas de problème de colinéarité\n"
     ]
    },
    {
     "data": {
      "text/html": [
       "\n",
       "        <script>\n",
       "            function code_toggle_8994681951246770846() {\n",
       "                $('div.cell.code_cell.rendered.selected').find('div.input').toggle();\n",
       "            }\n",
       "\n",
       "            \n",
       "        </script>\n",
       "\n",
       "        <a href=\"javascript:code_toggle_8994681951246770846()\">Toggle show/hide</a>\n",
       "    "
      ],
      "text/plain": [
       "<IPython.core.display.HTML object>"
      ]
     },
     "execution_count": 120,
     "metadata": {},
     "output_type": "execute_result"
    }
   ],
   "source": [
    "# Instanciation:\n",
    "reg_li_col = smf.ols(\"margin_low ~ diagonal + height_left + height_right + margin_up + length + is_genuine\", \n",
    "                   data = data)\n",
    "# Calculs:\n",
    "res_li_col = reg_li_col.fit()\n",
    "\n",
    "variables = res_li_col.model.exog\n",
    "\n",
    "\n",
    "for VIF in [variance_inflation_factor(variables, i) for i in np.arange(1,variables.shape[1])]:\n",
    "    if VIF <= 10:\n",
    "        print(\"VIF > 10 : Pas de problème de colinéarité\")\n",
    "hide_toggle()"
   ]
  },
  {
   "cell_type": "markdown",
   "id": "cf825dd5-f23a-4cf0-89d9-a55daf0bf808",
   "metadata": {
    "slideshow": {
     "slide_type": "skip"
    }
   },
   "source": [
    "#### Test de l’homoscédasticité des résidus"
   ]
  },
  {
   "cell_type": "code",
   "execution_count": 121,
   "id": "0ce7baa0-358b-453f-80e3-8517cc8248eb",
   "metadata": {
    "slideshow": {
     "slide_type": "skip"
    }
   },
   "outputs": [
    {
     "name": "stdout",
     "output_type": "stream",
     "text": [
      "p value test Breusch Pagan: 3.707483368010527e-33 \n",
      "\n",
      "pvalue < 5% ,  H0 est rejetée : les variances ne sont pas constantes(homoscédastiques).\n"
     ]
    },
    {
     "data": {
      "text/html": [
       "\n",
       "        <script>\n",
       "            function code_toggle_6980928015608158130() {\n",
       "                $('div.cell.code_cell.rendered.selected').find('div.input').toggle();\n",
       "            }\n",
       "\n",
       "            \n",
       "        </script>\n",
       "\n",
       "        <a href=\"javascript:code_toggle_6980928015608158130()\">Toggle show/hide</a>\n",
       "    "
      ],
      "text/plain": [
       "<IPython.core.display.HTML object>"
      ]
     },
     "execution_count": 121,
     "metadata": {},
     "output_type": "execute_result"
    }
   ],
   "source": [
    "_, pval, __, f_pval = sms.het_breuschpagan(reg_multi.resid, variables)\n",
    "print('p value test Breusch Pagan:', pval,\"\\n\")\n",
    "if pval < 5/100:\n",
    "    print(\"pvalue < 5% ,  H0 est rejetée : les variances ne sont pas constantes(homoscédastiques).\")\n",
    "else : print(\"pvalue > 5%, H0 ne peut être rejetée : les variances sont constantes\")\n",
    "hide_toggle()"
   ]
  },
  {
   "cell_type": "markdown",
   "id": "62ecc0b4-046c-4e90-8f35-a36c1b85fae0",
   "metadata": {
    "slideshow": {
     "slide_type": "skip"
    }
   },
   "source": [
    "#### Test de normalié des résidus"
   ]
  },
  {
   "cell_type": "code",
   "execution_count": 122,
   "id": "8bc70cd1-1c9c-4244-a58b-769d3e7356f3",
   "metadata": {
    "slideshow": {
     "slide_type": "skip"
    }
   },
   "outputs": [
    {
     "name": "stdout",
     "output_type": "stream",
     "text": [
      "==================================================================================================== \n",
      "\n",
      "\t\t\t\t\t TEST DE LA NORMALITE (TEST DE SHAPIRO) \n",
      "\n",
      "==================================================================================================== \n",
      "\n",
      "\n",
      "    \t##### \u001b[1m0. Hypothèse du test\u001b[0m #####\n",
      "\n",
      "    H0 : \u001b[1mRésidus\u001b[0m suit une loi normale \n",
      "\n",
      "    H1 : \u001b[1mRésidus\u001b[0m ne suit pas une loi normale \n",
      "\n",
      "    \t##### \u001b[1m1. Paramètre du test de Shapiro\u001b[0m #####\n",
      "\n",
      "    Variable aléatoire étudiée : \u001b[1mRésidus\u001b[0m\n",
      "\n",
      "    Indice de confiance : \u001b[1m0.05\u001b[0m\n",
      "\n",
      "    Taille de l'échantillon : \u001b[1m1463\u001b[0m\n",
      "\n",
      "    \t #### \u001b[1m2. Résultat du test\u001b[0m ####\n",
      "\n",
      "    p-value de shapiro : \u001b[1m6.20942773821298e-06\u001b[0m\n",
      "\n",
      "    coefficient de shapiro : \u001b[1m0.9936248064041138\u001b[0m\n",
      " \n",
      "    \t #### \u001b[1m3. Conclusion du test\u001b[0m ####\n",
      "\n",
      "L'hypothèse nulle est rejetée \t ==> \u001b[1mRésidus\u001b[0m ne suit pas une loi normale\n",
      "\n",
      "==================================================================================================== \n",
      "\n"
     ]
    },
    {
     "data": {
      "text/html": [
       "\n",
       "        <script>\n",
       "            function code_toggle_17501696782174151884() {\n",
       "                $('div.cell.code_cell.rendered.selected').find('div.input').toggle();\n",
       "            }\n",
       "\n",
       "            \n",
       "        </script>\n",
       "\n",
       "        <a href=\"javascript:code_toggle_17501696782174151884()\">Toggle show/hide</a>\n",
       "    "
      ],
      "text/plain": [
       "<IPython.core.display.HTML object>"
      ]
     },
     "execution_count": 122,
     "metadata": {},
     "output_type": "execute_result"
    }
   ],
   "source": [
    "shapiro_test(pd.DataFrame(reg_multi.resid, columns =[\"Résidus\"])[\"Résidus\"])\n",
    "hide_toggle()"
   ]
  },
  {
   "cell_type": "markdown",
   "id": "9bfea224-6259-4250-b2e9-a6cb056b7a51",
   "metadata": {
    "slideshow": {
     "slide_type": "skip"
    }
   },
   "source": [
    "<div class =\"alert-info\"> <b>Les hypothèses du modèle linéaire ne sont pas respectées. En effet, les résidus ne sont ni gaussiens, ni homoscedastiques... Mais vu la taille plus que suffisante de notre échantillon (1500 individus), les résultats du modèle seront quand même viables.</b></div>"
   ]
  },
  {
   "cell_type": "markdown",
   "id": "3c3386a8-177a-4fe0-9ffa-73b58a6355dc",
   "metadata": {
    "slideshow": {
     "slide_type": "skip"
    }
   },
   "source": [
    "#### Prédiction des données manquantes"
   ]
  },
  {
   "cell_type": "code",
   "execution_count": 123,
   "id": "ebba9025-8415-4a22-bb1b-7838bd860f3b",
   "metadata": {
    "slideshow": {
     "slide_type": "skip"
    }
   },
   "outputs": [],
   "source": [
    "predict_na = reg_multi.predict(df_na)"
   ]
  },
  {
   "cell_type": "markdown",
   "id": "d40cd764-d161-4034-bb79-3930625cdddf",
   "metadata": {
    "slideshow": {
     "slide_type": "slide"
    }
   },
   "source": [
    "### 1.2.2. Recherche d'autres modèles avec un meilleur r2"
   ]
  },
  {
   "cell_type": "code",
   "execution_count": 124,
   "id": "f5a3da4d-ed5b-4551-9d9e-694f899214c6",
   "metadata": {
    "slideshow": {
     "slide_type": "fragment"
    }
   },
   "outputs": [
    {
     "name": "stdout",
     "output_type": "stream",
     "text": [
      "LinearRegression()\n",
      "\tTraining time: 0.002s\n",
      "\tPrediction time: 0.002s\n",
      "\tExplained variance: 0.6743376377018512\n",
      "\tMean absolute error: 0.2897307135185014\n",
      "\tR2 score: 0.6736214684077528\n",
      "\n",
      "Ridge()\n",
      "\tTraining time: 0.002s\n",
      "\tPrediction time: 0.002s\n",
      "\tExplained variance: 0.6740590331721421\n",
      "\tMean absolute error: 0.2896463361813899\n",
      "\tR2 score: 0.673344879445678\n",
      "\n",
      "Lasso()\n",
      "\tTraining time: 0.002s\n",
      "\tPrediction time: 0.001s\n",
      "\tExplained variance: 0.0\n",
      "\tMean absolute error: 0.5212680493567866\n",
      "\tR2 score: -8.248054288073625e-05\n",
      "\n",
      "SGDRegressor()\n",
      "\tTraining time: 0.002s\n",
      "\tPrediction time: 0.001s\n",
      "\tExplained variance: 0.4600285933548508\n",
      "\tMean absolute error: 0.37206643862813743\n",
      "\tR2 score: 0.44661960867374195\n",
      "\n"
     ]
    },
    {
     "data": {
      "text/html": [
       "\n",
       "        <script>\n",
       "            function code_toggle_5411798702417811005() {\n",
       "                $('div.cell.code_cell.rendered.selected').find('div.input').toggle();\n",
       "            }\n",
       "\n",
       "            \n",
       "        </script>\n",
       "\n",
       "        <a href=\"javascript:code_toggle_5411798702417811005()\">Toggle show/hide</a>\n",
       "    "
      ],
      "text/plain": [
       "<IPython.core.display.HTML object>"
      ]
     },
     "execution_count": 124,
     "metadata": {},
     "output_type": "execute_result"
    }
   ],
   "source": [
    "# Choix du model de reression\n",
    "y = df[\"margin_low\"]\n",
    "X = df[[\"margin_up\", \"is_genuine\"]]\n",
    "\n",
    "#Splitting the data into train and test split\n",
    "X_train, X_test, y_train, y_test = train_test_split(X, y, test_size=0.2, random_state=42)\n",
    "\n",
    "regressors = [LinearRegression(), Ridge(), Lasso(), SGDRegressor()]\n",
    "\n",
    "head = 10\n",
    "for model in regressors[:head]:\n",
    "    start = time()\n",
    "    model.fit(X_train, y_train)\n",
    "    train_time = time() - start\n",
    "    start = time()\n",
    "    y_pred = model.predict(X_test)\n",
    "    predict_time = time()-start    \n",
    "    print(model)\n",
    "    print(\"\\tTraining time: %0.3fs\" % train_time)\n",
    "    print(\"\\tPrediction time: %0.3fs\" % predict_time)\n",
    "    print(\"\\tExplained variance:\", metrics.explained_variance_score(y_test, y_pred))\n",
    "    print(\"\\tMean absolute error:\", metrics.mean_absolute_error(y_test, y_pred))\n",
    "    print(\"\\tR2 score:\", metrics.r2_score(y_test, y_pred))\n",
    "    print()\n",
    "\n",
    "hide_toggle()"
   ]
  },
  {
   "cell_type": "markdown",
   "id": "9f4d7a1b",
   "metadata": {
    "slideshow": {
     "slide_type": "slide"
    }
   },
   "source": [
    "### 1.2.3. Ridge (Sklearn)"
   ]
  },
  {
   "cell_type": "code",
   "execution_count": 125,
   "id": "d820e7b8-c880-42db-9fd5-a1395b4be094",
   "metadata": {
    "slideshow": {
     "slide_type": "skip"
    }
   },
   "outputs": [
    {
     "data": {
      "image/png": "[encoded data removed]",
      "text/plain": [
       "<Figure size 720x504 with 2 Axes>"
      ]
     },
     "metadata": {
      "needs_background": "light"
     },
     "output_type": "display_data"
    },
    {
     "data": {
      "text/html": [
       "\n",
       "        <script>\n",
       "            function code_toggle_10540725932239404216() {\n",
       "                $('div.cell.code_cell.rendered.selected').find('div.input').toggle();\n",
       "            }\n",
       "\n",
       "            \n",
       "        </script>\n",
       "\n",
       "        <a href=\"javascript:code_toggle_10540725932239404216()\">Toggle show/hide</a>\n",
       "    "
      ],
      "text/plain": [
       "<IPython.core.display.HTML object>"
      ]
     },
     "execution_count": 125,
     "metadata": {},
     "output_type": "execute_result"
    }
   ],
   "source": [
    "plt.figure(figsize=(10,7))\n",
    "sns.heatmap(data.corr(), vmin=-1, vmax=1, annot=True,linecolor='k', linewidths=2, cmap = \"Blues\")\n",
    "plt.title(\"Matrice des correlations\\n\")\n",
    "plt.show()\n",
    "hide_toggle()"
   ]
  },
  {
   "cell_type": "markdown",
   "id": "0cc648e8-bc05-4e0b-aadf-dfbea60c514e",
   "metadata": {
    "slideshow": {
     "slide_type": "skip"
    }
   },
   "source": [
    "<div  class=\"alert-info\">  \n",
    "  <b> Corrélations observées sur la variable à prédire : </b>\n",
    "    <ul><li> <b>margin up</b> : corrélation positive avec  <b>r = 0.43</b></li>\n",
    "        <li> <b>is_geuine</b> : forte corrélation négative avec  <b>r =  -0.78</b></li>\n",
    "        <li> <b></b><b>r inférieur à 0.4 </b>pour le reste</li>\n",
    "  \n",
    "</div>"
   ]
  },
  {
   "cell_type": "code",
   "execution_count": 126,
   "id": "bc3877c7-c82a-47ae-b08e-3b4a4fd09c33",
   "metadata": {
    "slideshow": {
     "slide_type": "fragment"
    }
   },
   "outputs": [
    {
     "data": {
      "text/html": [
       "<style>#sk-container-id-2 {color: black;background-color: white;}#sk-container-id-2 pre{padding: 0;}#sk-container-id-2 div.sk-toggleable {background-color: white;}#sk-container-id-2 label.sk-toggleable__label {cursor: pointer;display: block;width: 100%;margin-bottom: 0;padding: 0.3em;box-sizing: border-box;text-align: center;}#sk-container-id-2 label.sk-toggleable__label-arrow:before {content: \"▸\";float: left;margin-right: 0.25em;color: #696969;}#sk-container-id-2 label.sk-toggleable__label-arrow:hover:before {color: black;}#sk-container-id-2 div.sk-estimator:hover label.sk-toggleable__label-arrow:before {color: black;}#sk-container-id-2 div.sk-toggleable__content {max-height: 0;max-width: 0;overflow: hidden;text-align: left;background-color: #f0f8ff;}#sk-container-id-2 div.sk-toggleable__content pre {margin: 0.2em;color: black;border-radius: 0.25em;background-color: #f0f8ff;}#sk-container-id-2 input.sk-toggleable__control:checked~div.sk-toggleable__content {max-height: 200px;max-width: 100%;overflow: auto;}#sk-container-id-2 input.sk-toggleable__control:checked~label.sk-toggleable__label-arrow:before {content: \"▾\";}#sk-container-id-2 div.sk-estimator input.sk-toggleable__control:checked~label.sk-toggleable__label {background-color: #d4ebff;}#sk-container-id-2 div.sk-label input.sk-toggleable__control:checked~label.sk-toggleable__label {background-color: #d4ebff;}#sk-container-id-2 input.sk-hidden--visually {border: 0;clip: rect(1px 1px 1px 1px);clip: rect(1px, 1px, 1px, 1px);height: 1px;margin: -1px;overflow: hidden;padding: 0;position: absolute;width: 1px;}#sk-container-id-2 div.sk-estimator {font-family: monospace;background-color: #f0f8ff;border: 1px dotted black;border-radius: 0.25em;box-sizing: border-box;margin-bottom: 0.5em;}#sk-container-id-2 div.sk-estimator:hover {background-color: #d4ebff;}#sk-container-id-2 div.sk-parallel-item::after {content: \"\";width: 100%;border-bottom: 1px solid gray;flex-grow: 1;}#sk-container-id-2 div.sk-label:hover label.sk-toggleable__label {background-color: #d4ebff;}#sk-container-id-2 div.sk-serial::before {content: \"\";position: absolute;border-left: 1px solid gray;box-sizing: border-box;top: 0;bottom: 0;left: 50%;z-index: 0;}#sk-container-id-2 div.sk-serial {display: flex;flex-direction: column;align-items: center;background-color: white;padding-right: 0.2em;padding-left: 0.2em;position: relative;}#sk-container-id-2 div.sk-item {position: relative;z-index: 1;}#sk-container-id-2 div.sk-parallel {display: flex;align-items: stretch;justify-content: center;background-color: white;position: relative;}#sk-container-id-2 div.sk-item::before, #sk-container-id-2 div.sk-parallel-item::before {content: \"\";position: absolute;border-left: 1px solid gray;box-sizing: border-box;top: 0;bottom: 0;left: 50%;z-index: -1;}#sk-container-id-2 div.sk-parallel-item {display: flex;flex-direction: column;z-index: 1;position: relative;background-color: white;}#sk-container-id-2 div.sk-parallel-item:first-child::after {align-self: flex-end;width: 50%;}#sk-container-id-2 div.sk-parallel-item:last-child::after {align-self: flex-start;width: 50%;}#sk-container-id-2 div.sk-parallel-item:only-child::after {width: 0;}#sk-container-id-2 div.sk-dashed-wrapped {border: 1px dashed gray;margin: 0 0.4em 0.5em 0.4em;box-sizing: border-box;padding-bottom: 0.4em;background-color: white;}#sk-container-id-2 div.sk-label label {font-family: monospace;font-weight: bold;display: inline-block;line-height: 1.2em;}#sk-container-id-2 div.sk-label-container {text-align: center;}#sk-container-id-2 div.sk-container {/* jupyter's `normalize.less` sets `[hidden] { display: none; }` but bootstrap.min.css set `[hidden] { display: none !important; }` so we also need the `!important` here to be able to override the default hidden behavior on the sphinx rendered scikit-learn.org. See: https://github.com/scikit-learn/scikit-learn/issues/21755 */display: inline-block !important;position: relative;}#sk-container-id-2 div.sk-text-repr-fallback {display: none;}</style><div id=\"sk-container-id-2\" class=\"sk-top-container\"><div class=\"sk-text-repr-fallback\"><pre>GridSearchCV(cv=5,\n",
       "             estimator=Pipeline(steps=[(&#x27;scaler&#x27;, StandardScaler()),\n",
       "                                       (&#x27;estimator&#x27;, Ridge())]),\n",
       "             param_grid={&#x27;estimator__alpha&#x27;: [1, 10]})</pre><b>In a Jupyter environment, please rerun this cell to show the HTML representation or trust the notebook. <br />On GitHub, the HTML representation is unable to render, please try loading this page with nbviewer.org.</b></div><div class=\"sk-container\" hidden><div class=\"sk-item sk-dashed-wrapped\"><div class=\"sk-label-container\"><div class=\"sk-label sk-toggleable\"><input class=\"sk-toggleable__control sk-hidden--visually\" id=\"sk-estimator-id-5\" type=\"checkbox\" ><label for=\"sk-estimator-id-5\" class=\"sk-toggleable__label sk-toggleable__label-arrow\">GridSearchCV</label><div class=\"sk-toggleable__content\"><pre>GridSearchCV(cv=5,\n",
       "             estimator=Pipeline(steps=[(&#x27;scaler&#x27;, StandardScaler()),\n",
       "                                       (&#x27;estimator&#x27;, Ridge())]),\n",
       "             param_grid={&#x27;estimator__alpha&#x27;: [1, 10]})</pre></div></div></div><div class=\"sk-parallel\"><div class=\"sk-parallel-item\"><div class=\"sk-item\"><div class=\"sk-label-container\"><div class=\"sk-label sk-toggleable\"><input class=\"sk-toggleable__control sk-hidden--visually\" id=\"sk-estimator-id-6\" type=\"checkbox\" ><label for=\"sk-estimator-id-6\" class=\"sk-toggleable__label sk-toggleable__label-arrow\">estimator: Pipeline</label><div class=\"sk-toggleable__content\"><pre>Pipeline(steps=[(&#x27;scaler&#x27;, StandardScaler()), (&#x27;estimator&#x27;, Ridge())])</pre></div></div></div><div class=\"sk-serial\"><div class=\"sk-item\"><div class=\"sk-serial\"><div class=\"sk-item\"><div class=\"sk-estimator sk-toggleable\"><input class=\"sk-toggleable__control sk-hidden--visually\" id=\"sk-estimator-id-7\" type=\"checkbox\" ><label for=\"sk-estimator-id-7\" class=\"sk-toggleable__label sk-toggleable__label-arrow\">StandardScaler</label><div class=\"sk-toggleable__content\"><pre>StandardScaler()</pre></div></div></div><div class=\"sk-item\"><div class=\"sk-estimator sk-toggleable\"><input class=\"sk-toggleable__control sk-hidden--visually\" id=\"sk-estimator-id-8\" type=\"checkbox\" ><label for=\"sk-estimator-id-8\" class=\"sk-toggleable__label sk-toggleable__label-arrow\">Ridge</label><div class=\"sk-toggleable__content\"><pre>Ridge()</pre></div></div></div></div></div></div></div></div></div></div></div></div>"
      ],
      "text/plain": [
       "GridSearchCV(cv=5,\n",
       "             estimator=Pipeline(steps=[('scaler', StandardScaler()),\n",
       "                                       ('estimator', Ridge())]),\n",
       "             param_grid={'estimator__alpha': [1, 10]})"
      ]
     },
     "execution_count": 126,
     "metadata": {},
     "output_type": "execute_result"
    }
   ],
   "source": [
    "pipeline = Pipeline([('scaler', StandardScaler()),(\"estimator\", Ridge())])\n",
    "params = {'estimator__alpha':[1, 10]}\n",
    "\n",
    "# define the grid search\n",
    "model_ridge = GridSearchCV(pipeline, param_grid=params,cv=5)\n",
    "model_ridge.fit(X_train, y_train)"
   ]
  },
  {
   "cell_type": "code",
   "execution_count": 127,
   "id": "794a3555-3f97-41c9-aaaf-69f8600a0980",
   "metadata": {
    "slideshow": {
     "slide_type": "fragment"
    }
   },
   "outputs": [
    {
     "data": {
      "text/plain": [
       "0.6735714281132827"
      ]
     },
     "execution_count": 127,
     "metadata": {},
     "output_type": "execute_result"
    }
   ],
   "source": [
    "model_ridge_opti = model_ridge.best_estimator_\n",
    "model_ridge_opti.score(X_test, y_test)"
   ]
  },
  {
   "cell_type": "code",
   "execution_count": 128,
   "id": "cbe9567d-0edf-4ca9-9ae9-e9e692023792",
   "metadata": {
    "slideshow": {
     "slide_type": "skip"
    }
   },
   "outputs": [],
   "source": [
    "predict_na2 = model_ridge_opti.predict(df_na[[\"margin_up\", \"is_genuine\"]])"
   ]
  },
  {
   "cell_type": "markdown",
   "id": "5bec1359-3206-4c1b-a63e-3d3cc20caf37",
   "metadata": {
    "slideshow": {
     "slide_type": "slide"
    }
   },
   "source": [
    "### 1.2.4. Comparaisons des prédictions"
   ]
  },
  {
   "cell_type": "code",
   "execution_count": 180,
   "id": "27aedffb-e42f-417a-9861-25cd27b360b1",
   "metadata": {
    "slideshow": {
     "slide_type": "skip"
    }
   },
   "outputs": [
    {
     "name": "stderr",
     "output_type": "stream",
     "text": [
      "C:\\Users\\ali75\\AppData\\Local\\Temp\\ipykernel_21448\\423527462.py:1: SettingWithCopyWarning: \n",
      "A value is trying to be set on a copy of a slice from a DataFrame.\n",
      "Try using .loc[row_indexer,col_indexer] = value instead\n",
      "\n",
      "See the caveats in the documentation: https://pandas.pydata.org/pandas-docs/stable/user_guide/indexing.html#returning-a-view-versus-a-copy\n",
      "  df_na[\"predict_linear\"] = predict_na\n",
      "C:\\Users\\ali75\\AppData\\Local\\Temp\\ipykernel_21448\\423527462.py:2: SettingWithCopyWarning: \n",
      "A value is trying to be set on a copy of a slice from a DataFrame.\n",
      "Try using .loc[row_indexer,col_indexer] = value instead\n",
      "\n",
      "See the caveats in the documentation: https://pandas.pydata.org/pandas-docs/stable/user_guide/indexing.html#returning-a-view-versus-a-copy\n",
      "  df_na[\"predict_ridge\"] = predict_na2\n"
     ]
    }
   ],
   "source": [
    "df_na[\"predict_linear\"] = predict_na\n",
    "df_na[\"predict_ridge\"] = predict_na2"
   ]
  },
  {
   "cell_type": "code",
   "execution_count": 130,
   "id": "ab042b81",
   "metadata": {
    "slideshow": {
     "slide_type": "slide"
    }
   },
   "outputs": [
    {
     "data": {
      "text/html": [
       "<div>\n",
       "<style scoped>\n",
       "    .dataframe tbody tr th:only-of-type {\n",
       "        vertical-align: middle;\n",
       "    }\n",
       "\n",
       "    .dataframe tbody tr th {\n",
       "        vertical-align: top;\n",
       "    }\n",
       "\n",
       "    .dataframe thead th {\n",
       "        text-align: right;\n",
       "    }\n",
       "</style>\n",
       "<table border=\"1\" class=\"dataframe\">\n",
       "  <thead>\n",
       "    <tr style=\"text-align: right;\">\n",
       "      <th></th>\n",
       "      <th>is_genuine</th>\n",
       "      <th>diagonal</th>\n",
       "      <th>height_left</th>\n",
       "      <th>height_right</th>\n",
       "      <th>margin_low</th>\n",
       "      <th>margin_up</th>\n",
       "      <th>length</th>\n",
       "      <th>predict_linear</th>\n",
       "      <th>predict_ridge</th>\n",
       "    </tr>\n",
       "  </thead>\n",
       "  <tbody>\n",
       "    <tr>\n",
       "      <th>72</th>\n",
       "      <td>1</td>\n",
       "      <td>171.94</td>\n",
       "      <td>103.89</td>\n",
       "      <td>103.45</td>\n",
       "      <td>NaN</td>\n",
       "      <td>3.25</td>\n",
       "      <td>112.79</td>\n",
       "      <td>4.074248</td>\n",
       "      <td>4.075496</td>\n",
       "    </tr>\n",
       "    <tr>\n",
       "      <th>99</th>\n",
       "      <td>1</td>\n",
       "      <td>171.93</td>\n",
       "      <td>104.07</td>\n",
       "      <td>104.18</td>\n",
       "      <td>NaN</td>\n",
       "      <td>3.14</td>\n",
       "      <td>113.08</td>\n",
       "      <td>4.097561</td>\n",
       "      <td>4.097418</td>\n",
       "    </tr>\n",
       "    <tr>\n",
       "      <th>151</th>\n",
       "      <td>1</td>\n",
       "      <td>172.07</td>\n",
       "      <td>103.80</td>\n",
       "      <td>104.38</td>\n",
       "      <td>NaN</td>\n",
       "      <td>3.02</td>\n",
       "      <td>112.93</td>\n",
       "      <td>4.122994</td>\n",
       "      <td>4.121334</td>\n",
       "    </tr>\n",
       "    <tr>\n",
       "      <th>197</th>\n",
       "      <td>1</td>\n",
       "      <td>171.45</td>\n",
       "      <td>103.66</td>\n",
       "      <td>103.80</td>\n",
       "      <td>NaN</td>\n",
       "      <td>3.62</td>\n",
       "      <td>113.27</td>\n",
       "      <td>3.995830</td>\n",
       "      <td>4.001758</td>\n",
       "    </tr>\n",
       "    <tr>\n",
       "      <th>241</th>\n",
       "      <td>1</td>\n",
       "      <td>171.83</td>\n",
       "      <td>104.14</td>\n",
       "      <td>104.06</td>\n",
       "      <td>NaN</td>\n",
       "      <td>3.02</td>\n",
       "      <td>112.36</td>\n",
       "      <td>4.122994</td>\n",
       "      <td>4.121334</td>\n",
       "    </tr>\n",
       "    <tr>\n",
       "      <th>251</th>\n",
       "      <td>1</td>\n",
       "      <td>171.80</td>\n",
       "      <td>103.26</td>\n",
       "      <td>102.82</td>\n",
       "      <td>NaN</td>\n",
       "      <td>2.95</td>\n",
       "      <td>113.22</td>\n",
       "      <td>4.137830</td>\n",
       "      <td>4.135284</td>\n",
       "    </tr>\n",
       "    <tr>\n",
       "      <th>284</th>\n",
       "      <td>1</td>\n",
       "      <td>171.92</td>\n",
       "      <td>103.83</td>\n",
       "      <td>103.76</td>\n",
       "      <td>NaN</td>\n",
       "      <td>3.23</td>\n",
       "      <td>113.29</td>\n",
       "      <td>4.078487</td>\n",
       "      <td>4.079482</td>\n",
       "    </tr>\n",
       "    <tr>\n",
       "      <th>334</th>\n",
       "      <td>1</td>\n",
       "      <td>171.85</td>\n",
       "      <td>103.70</td>\n",
       "      <td>103.96</td>\n",
       "      <td>NaN</td>\n",
       "      <td>3.00</td>\n",
       "      <td>113.36</td>\n",
       "      <td>4.127233</td>\n",
       "      <td>4.125319</td>\n",
       "    </tr>\n",
       "    <tr>\n",
       "      <th>410</th>\n",
       "      <td>1</td>\n",
       "      <td>172.56</td>\n",
       "      <td>103.72</td>\n",
       "      <td>103.51</td>\n",
       "      <td>NaN</td>\n",
       "      <td>3.12</td>\n",
       "      <td>112.95</td>\n",
       "      <td>4.101800</td>\n",
       "      <td>4.101404</td>\n",
       "    </tr>\n",
       "    <tr>\n",
       "      <th>413</th>\n",
       "      <td>1</td>\n",
       "      <td>172.30</td>\n",
       "      <td>103.66</td>\n",
       "      <td>103.50</td>\n",
       "      <td>NaN</td>\n",
       "      <td>3.16</td>\n",
       "      <td>112.95</td>\n",
       "      <td>4.093322</td>\n",
       "      <td>4.093433</td>\n",
       "    </tr>\n",
       "  </tbody>\n",
       "</table>\n",
       "</div>"
      ],
      "text/plain": [
       "     is_genuine  diagonal  height_left  height_right  margin_low  margin_up  \\\n",
       "72            1    171.94       103.89        103.45         NaN       3.25   \n",
       "99            1    171.93       104.07        104.18         NaN       3.14   \n",
       "151           1    172.07       103.80        104.38         NaN       3.02   \n",
       "197           1    171.45       103.66        103.80         NaN       3.62   \n",
       "241           1    171.83       104.14        104.06         NaN       3.02   \n",
       "251           1    171.80       103.26        102.82         NaN       2.95   \n",
       "284           1    171.92       103.83        103.76         NaN       3.23   \n",
       "334           1    171.85       103.70        103.96         NaN       3.00   \n",
       "410           1    172.56       103.72        103.51         NaN       3.12   \n",
       "413           1    172.30       103.66        103.50         NaN       3.16   \n",
       "\n",
       "     length  predict_linear  predict_ridge  \n",
       "72   112.79        4.074248       4.075496  \n",
       "99   113.08        4.097561       4.097418  \n",
       "151  112.93        4.122994       4.121334  \n",
       "197  113.27        3.995830       4.001758  \n",
       "241  112.36        4.122994       4.121334  \n",
       "251  113.22        4.137830       4.135284  \n",
       "284  113.29        4.078487       4.079482  \n",
       "334  113.36        4.127233       4.125319  \n",
       "410  112.95        4.101800       4.101404  \n",
       "413  112.95        4.093322       4.093433  "
      ]
     },
     "execution_count": 130,
     "metadata": {},
     "output_type": "execute_result"
    }
   ],
   "source": [
    "df_na.head(10)"
   ]
  },
  {
   "cell_type": "markdown",
   "id": "65b91e05-32e5-4eff-8635-0af06ff9f2a2",
   "metadata": {
    "slideshow": {
     "slide_type": "slide"
    },
    "tags": []
   },
   "source": [
    "### 1.2.5. Imputation des données manquantes dans le jeu de données principal"
   ]
  },
  {
   "cell_type": "code",
   "execution_count": 131,
   "id": "cd11f855",
   "metadata": {
    "scrolled": true,
    "slideshow": {
     "slide_type": "fragment"
    }
   },
   "outputs": [
    {
     "name": "stderr",
     "output_type": "stream",
     "text": [
      "C:\\Users\\ali75\\AppData\\Local\\Temp\\ipykernel_21448\\2275961901.py:1: SettingWithCopyWarning: \n",
      "A value is trying to be set on a copy of a slice from a DataFrame\n",
      "\n",
      "See the caveats in the documentation: https://pandas.pydata.org/pandas-docs/stable/user_guide/indexing.html#returning-a-view-versus-a-copy\n",
      "  data[\"margin_low\"][data[\"margin_low\"].isnull()] = predict_na2\n"
     ]
    }
   ],
   "source": [
    "data[\"margin_low\"][data[\"margin_low\"].isnull()] = predict_na2"
   ]
  },
  {
   "cell_type": "code",
   "execution_count": 132,
   "id": "6b5cbcb2-6b10-4d84-98c1-bfb40c2cfb13",
   "metadata": {
    "slideshow": {
     "slide_type": "fragment"
    }
   },
   "outputs": [
    {
     "name": "stdout",
     "output_type": "stream",
     "text": [
      "<class 'pandas.core.frame.DataFrame'>\n",
      "RangeIndex: 1500 entries, 0 to 1499\n",
      "Data columns (total 7 columns):\n",
      " #   Column        Non-Null Count  Dtype  \n",
      "---  ------        --------------  -----  \n",
      " 0   is_genuine    1500 non-null   bool   \n",
      " 1   diagonal      1500 non-null   float64\n",
      " 2   height_left   1500 non-null   float64\n",
      " 3   height_right  1500 non-null   float64\n",
      " 4   margin_low    1500 non-null   float64\n",
      " 5   margin_up     1500 non-null   float64\n",
      " 6   length        1500 non-null   float64\n",
      "dtypes: bool(1), float64(6)\n",
      "memory usage: 71.9 KB\n"
     ]
    },
    {
     "data": {
      "text/html": [
       "\n",
       "        <script>\n",
       "            function code_toggle_649001375167105936() {\n",
       "                $('div.cell.code_cell.rendered.selected').find('div.input').toggle();\n",
       "            }\n",
       "\n",
       "            \n",
       "        </script>\n",
       "\n",
       "        <a href=\"javascript:code_toggle_649001375167105936()\">Toggle show/hide</a>\n",
       "    "
      ],
      "text/plain": [
       "<IPython.core.display.HTML object>"
      ]
     },
     "execution_count": 132,
     "metadata": {},
     "output_type": "execute_result"
    }
   ],
   "source": [
    "data.info()\n",
    "\n",
    "hide_toggle()"
   ]
  },
  {
   "cell_type": "markdown",
   "id": "bf8492cc-59c3-4e24-af8b-05affee69dee",
   "metadata": {
    "slideshow": {
     "slide_type": "skip"
    },
    "tags": []
   },
   "source": [
    "## <a name=\"C3\">1.3. Analyse univariée</a> "
   ]
  },
  {
   "cell_type": "code",
   "execution_count": 133,
   "id": "60e9180d-61d7-4e0b-8609-5824909a0ecc",
   "metadata": {},
   "outputs": [],
   "source": [
    "features = data[['diagonal', 'height_left', 'height_right', 'margin_low','margin_up', 'length']]\n",
    "target = data[['is_genuine']]"
   ]
  },
  {
   "cell_type": "markdown",
   "id": "720e3f53-7402-42b8-ae56-616fdd0845c2",
   "metadata": {
    "slideshow": {
     "slide_type": "skip"
    },
    "tags": []
   },
   "source": [
    "### <a name=\"C1\">1.3.1. Analyse des features</a> "
   ]
  },
  {
   "cell_type": "code",
   "execution_count": 179,
   "id": "d61f5b35",
   "metadata": {},
   "outputs": [
    {
     "name": "stdout",
     "output_type": "stream",
     "text": [
      "Variable \u001b[1m diagonal \u001b[0m \n",
      "\n"
     ]
    },
    {
     "data": {
      "image/png": "[encoded data removed]",
      "text/plain": [
       "<Figure size 1080x360 with 2 Axes>"
      ]
     },
     "metadata": {
      "needs_background": "light"
     },
     "output_type": "display_data"
    },
    {
     "name": "stdout",
     "output_type": "stream",
     "text": [
      "\u001b[1m Moyenne : \u001b[0m 171.96\n",
      "\u001b[1m Médiane : \u001b[0m 171.96\n",
      "\u001b[1m Kurtosis : \u001b[0m -0.13\n",
      "\u001b[1m Écart-type : \u001b[0m -0.13\n",
      "\n",
      " ************************************************** \n",
      "\n",
      "Variable \u001b[1m height_left \u001b[0m \n",
      "\n"
     ]
    },
    {
     "data": {
      "image/png": "[encoded data removed]",
      "text/plain": [
       "<Figure size 1080x360 with 2 Axes>"
      ]
     },
     "metadata": {
      "needs_background": "light"
     },
     "output_type": "display_data"
    },
    {
     "name": "stdout",
     "output_type": "stream",
     "text": [
      "\u001b[1m Moyenne : \u001b[0m 104.03\n",
      "\u001b[1m Médiane : \u001b[0m 104.04\n",
      "\u001b[1m Kurtosis : \u001b[0m -0.2\n",
      "\u001b[1m Écart-type : \u001b[0m -0.2\n",
      "\n",
      " ************************************************** \n",
      "\n",
      "Variable \u001b[1m height_right \u001b[0m \n",
      "\n"
     ]
    },
    {
     "data": {
      "image/png": "[encoded data removed]",
      "text/plain": [
       "<Figure size 1080x360 with 2 Axes>"
      ]
     },
     "metadata": {
      "needs_background": "light"
     },
     "output_type": "display_data"
    },
    {
     "name": "stdout",
     "output_type": "stream",
     "text": [
      "\u001b[1m Moyenne : \u001b[0m 103.92\n",
      "\u001b[1m Médiane : \u001b[0m 103.92\n",
      "\u001b[1m Kurtosis : \u001b[0m -0.03\n",
      "\u001b[1m Écart-type : \u001b[0m -0.03\n",
      "\n",
      " ************************************************** \n",
      "\n",
      "Variable \u001b[1m margin_low \u001b[0m \n",
      "\n"
     ]
    },
    {
     "data": {
      "image/png": "[encoded data removed]",
      "text/plain": [
       "<Figure size 1080x360 with 2 Axes>"
      ]
     },
     "metadata": {
      "needs_background": "light"
     },
     "output_type": "display_data"
    },
    {
     "name": "stdout",
     "output_type": "stream",
     "text": [
      "\u001b[1m Moyenne : \u001b[0m 4.48\n",
      "\u001b[1m Médiane : \u001b[0m 4.31\n",
      "\u001b[1m Kurtosis : \u001b[0m 0.25\n",
      "\u001b[1m Écart-type : \u001b[0m 0.25\n",
      "\n",
      " ************************************************** \n",
      "\n",
      "Variable \u001b[1m margin_up \u001b[0m \n",
      "\n"
     ]
    },
    {
     "data": {
      "image/png": "[encoded data removed]",
      "text/plain": [
       "<Figure size 1080x360 with 2 Axes>"
      ]
     },
     "metadata": {
      "needs_background": "light"
     },
     "output_type": "display_data"
    },
    {
     "name": "stdout",
     "output_type": "stream",
     "text": [
      "\u001b[1m Moyenne : \u001b[0m 3.15\n",
      "\u001b[1m Médiane : \u001b[0m 3.14\n",
      "\u001b[1m Kurtosis : \u001b[0m -0.25\n",
      "\u001b[1m Écart-type : \u001b[0m -0.25\n",
      "\n",
      " ************************************************** \n",
      "\n",
      "Variable \u001b[1m length \u001b[0m \n",
      "\n"
     ]
    },
    {
     "data": {
      "image/png": "[encoded data removed]",
      "text/plain": [
       "<Figure size 1080x360 with 2 Axes>"
      ]
     },
     "metadata": {
      "needs_background": "light"
     },
     "output_type": "display_data"
    },
    {
     "name": "stdout",
     "output_type": "stream",
     "text": [
      "\u001b[1m Moyenne : \u001b[0m 112.68\n",
      "\u001b[1m Médiane : \u001b[0m 112.96\n",
      "\u001b[1m Kurtosis : \u001b[0m -0.28\n",
      "\u001b[1m Écart-type : \u001b[0m -0.28\n",
      "\n",
      " ************************************************** \n",
      "\n"
     ]
    },
    {
     "data": {
      "text/html": [
       "\n",
       "        <script>\n",
       "            function code_toggle_3440587760009633891() {\n",
       "                $('div.cell.code_cell.rendered.selected').find('div.input').toggle();\n",
       "            }\n",
       "\n",
       "            \n",
       "        </script>\n",
       "\n",
       "        <a href=\"javascript:code_toggle_3440587760009633891()\">Toggle show/hide</a>\n",
       "    "
      ],
      "text/plain": [
       "<IPython.core.display.HTML object>"
      ]
     },
     "execution_count": 179,
     "metadata": {},
     "output_type": "execute_result"
    }
   ],
   "source": [
    "features_names = ['diagonal', 'height_left', 'height_right', 'margin_low','margin_up', 'length']\n",
    "target_name = 'is_genuine'\n",
    "palette =[\"steelblue\",\"lightblue\",]\n",
    "for var in features_names:\n",
    "    print(\"Variable\",'\\033[1m' , var,'\\033[0m',\"\\n\")\n",
    "    plt.figure(figsize=(15,5))\n",
    "    plt.subplot(121)\n",
    "    sns.histplot(data = data, x=var, palette = palette);\n",
    "    plt.axvline(data[var].mean(), color='r', linewidth=2)\n",
    "    plt.axvline(data[var].median(), color='b', linewidth=2)\n",
    "    plt.subplot(122)\n",
    "    sns.boxplot(data=data, y=target_name, x=var, orient='h', showmeans=True,showfliers=True, palette=palette)\n",
    "    plt.show()\n",
    "    print ('\\033[1m',\"Moyenne :\",'\\033[0m', round(data[var].mean(), 2))\n",
    "    print ('\\033[1m',\"Médiane :\",'\\033[0m', round(data[var].median(), 2))\n",
    "    print ('\\033[1m',\"Kurtosis :\",'\\033[0m', round(data[var].kurtosis(), 2))\n",
    "    print ('\\033[1m',\"Écart-type :\",'\\033[0m', round(data[var].kurtosis(), 2))\n",
    "    print(\"\\n\",\"*\"*50,\"\\n\")\n",
    "\n",
    "hide_toggle()"
   ]
  },
  {
   "cell_type": "markdown",
   "id": "a61e9e64-23f7-4eb3-b0dc-0abd326f8f4d",
   "metadata": {
    "slideshow": {
     "slide_type": "skip"
    },
    "tags": []
   },
   "source": [
    "### <a name=\"C1\">1.3.2. Analyse de la target</a> "
   ]
  },
  {
   "cell_type": "code",
   "execution_count": 135,
   "id": "95fb33c6-3ed8-4c35-82f6-7fbd46a690ed",
   "metadata": {
    "slideshow": {
     "slide_type": "skip"
    }
   },
   "outputs": [
    {
     "data": {
      "image/png": "[encoded data removed]",
      "text/plain": [
       "<Figure size 1080x360 with 2 Axes>"
      ]
     },
     "metadata": {
      "needs_background": "light"
     },
     "output_type": "display_data"
    },
    {
     "data": {
      "text/html": [
       "\n",
       "        <script>\n",
       "            function code_toggle_9561059439124483462() {\n",
       "                $('div.cell.code_cell.rendered.selected').find('div.input').toggle();\n",
       "            }\n",
       "\n",
       "            \n",
       "        </script>\n",
       "\n",
       "        <a href=\"javascript:code_toggle_9561059439124483462()\">Toggle show/hide</a>\n",
       "    "
      ],
      "text/plain": [
       "<IPython.core.display.HTML object>"
      ]
     },
     "execution_count": 135,
     "metadata": {},
     "output_type": "execute_result"
    }
   ],
   "source": [
    "palette =[\"steelblue\",\"lightblue\",]\n",
    "plt.figure(figsize=(15,5))\n",
    "plt.subplot(121)\n",
    "sns.countplot(x=\"is_genuine\", data=data, palette =palette)\n",
    "plt.subplot(122)\n",
    "data[\"is_genuine\"].value_counts().plot(kind=\"pie\", ylabel='', autopct='%1.0f%%', radius=1.4, explode = (0, 0.02), \n",
    "                                       colors=[\"lightblue\",\"steelblue\"], pctdistance=1.1, labeldistance=0.4, rotatelabels=True)\n",
    "circle = plt.Circle( (0,0), 0.9, color='white')\n",
    "p=plt.gcf()\n",
    "p.gca().add_artist(circle)\n",
    "\n",
    "plt.show()\n",
    "\n",
    "hide_toggle()"
   ]
  },
  {
   "cell_type": "code",
   "execution_count": 137,
   "id": "78a6a4a7-d81e-41e8-a8a7-78a6dd0b9cb2",
   "metadata": {
    "slideshow": {
     "slide_type": "fragment"
    }
   },
   "outputs": [
    {
     "name": "stdout",
     "output_type": "stream",
     "text": [
      "+----------+-------------+------------------+------------------+------------------+------------------+------------------+\n",
      "|is_genuine|avg(diagonal)|  avg(height_left)| avg(height_right)|   avg(margin_low)|    avg(margin_up)|       avg(length)|\n",
      "+----------+-------------+------------------+------------------+------------------+------------------+------------------+\n",
      "|      true|    171.98708|103.94912999999993|103.80864999999989|4.1160968074150315|3.0521299999999965|113.20243000000004|\n",
      "|     false|    171.90116|104.19034000000016|104.14362000000021| 5.215934959349597|3.3501599999999963|111.63064000000008|\n",
      "+----------+-------------+------------------+------------------+------------------+------------------+------------------+\n",
      "\n"
     ]
    }
   ],
   "source": [
    "data_spark.groupby(\"is_genuine\").mean().show()"
   ]
  },
  {
   "cell_type": "markdown",
   "id": "bd19e18a-c355-4824-96f1-eaeea2abd1fe",
   "metadata": {
    "slideshow": {
     "slide_type": "skip"
    }
   },
   "source": [
    "**Portrait-robot du vrai billet**\n",
    "- Diagonale : 171.98 mm.\n",
    "- Hauteur mesurée à gauche : 103.94 mm.\n",
    "- Hauteur mesurée à droite : 103.80 mm.\n",
    "- Marge entre le bord supérieur et le bord de l'image : 4.11 mm.\n",
    "- Marge entre le bord inférieur et le bord de l'image : 3.05mm.\n",
    "- Longueur : 113.20 mm.\n",
    "\n",
    "**Portrait-robot du faux billet**\n",
    "- Diagonale : 171.90 mm.\n",
    "- Hauteur mesurée à gauche : 104.19 mm.\n",
    "- Hauteur mesurée à droite : 104.14 mm.\n",
    "- Marge entre le bord supérieur et le bord de l'image : 5.21 mm.\n",
    "- Marge entre le bord inférieur et le bord de l'image : 3.35mm.\n",
    "- Longueur : 111.63 mm.\n"
   ]
  },
  {
   "cell_type": "code",
   "execution_count": 138,
   "id": "d4229411-521e-40fb-b12c-d1f09294ea23",
   "metadata": {
    "slideshow": {
     "slide_type": "skip"
    }
   },
   "outputs": [],
   "source": [
    "# On exporte le df final\n",
    "data.to_csv(\"./data/df_final.csv\", encoding='utf-8', index=False)"
   ]
  },
  {
   "cell_type": "markdown",
   "id": "62d96aa6-51fd-4acd-a2e8-b1ed68ba76f9",
   "metadata": {
    "slideshow": {
     "slide_type": "slide"
    }
   },
   "source": [
    "<center><h2 >2. Clustering</h2></center>"
   ]
  },
  {
   "cell_type": "code",
   "execution_count": 139,
   "id": "043651ae-9637-47cf-be64-1c4ded2bb846",
   "metadata": {
    "slideshow": {
     "slide_type": "skip"
    }
   },
   "outputs": [
    {
     "data": {
      "text/html": [
       "<div>\n",
       "<style scoped>\n",
       "    .dataframe tbody tr th:only-of-type {\n",
       "        vertical-align: middle;\n",
       "    }\n",
       "\n",
       "    .dataframe tbody tr th {\n",
       "        vertical-align: top;\n",
       "    }\n",
       "\n",
       "    .dataframe thead th {\n",
       "        text-align: right;\n",
       "    }\n",
       "</style>\n",
       "<table border=\"1\" class=\"dataframe\">\n",
       "  <thead>\n",
       "    <tr style=\"text-align: right;\">\n",
       "      <th></th>\n",
       "      <th>is_genuine</th>\n",
       "      <th>diagonal</th>\n",
       "      <th>height_left</th>\n",
       "      <th>height_right</th>\n",
       "      <th>margin_low</th>\n",
       "      <th>margin_up</th>\n",
       "      <th>length</th>\n",
       "    </tr>\n",
       "  </thead>\n",
       "  <tbody>\n",
       "    <tr>\n",
       "      <th>0</th>\n",
       "      <td>True</td>\n",
       "      <td>171.81</td>\n",
       "      <td>104.86</td>\n",
       "      <td>104.95</td>\n",
       "      <td>4.52</td>\n",
       "      <td>2.89</td>\n",
       "      <td>112.83</td>\n",
       "    </tr>\n",
       "    <tr>\n",
       "      <th>1</th>\n",
       "      <td>True</td>\n",
       "      <td>171.46</td>\n",
       "      <td>103.36</td>\n",
       "      <td>103.66</td>\n",
       "      <td>3.77</td>\n",
       "      <td>2.99</td>\n",
       "      <td>113.09</td>\n",
       "    </tr>\n",
       "    <tr>\n",
       "      <th>2</th>\n",
       "      <td>True</td>\n",
       "      <td>172.69</td>\n",
       "      <td>104.48</td>\n",
       "      <td>103.50</td>\n",
       "      <td>4.40</td>\n",
       "      <td>2.94</td>\n",
       "      <td>113.16</td>\n",
       "    </tr>\n",
       "    <tr>\n",
       "      <th>3</th>\n",
       "      <td>True</td>\n",
       "      <td>171.36</td>\n",
       "      <td>103.91</td>\n",
       "      <td>103.94</td>\n",
       "      <td>3.62</td>\n",
       "      <td>3.01</td>\n",
       "      <td>113.51</td>\n",
       "    </tr>\n",
       "    <tr>\n",
       "      <th>4</th>\n",
       "      <td>True</td>\n",
       "      <td>171.73</td>\n",
       "      <td>104.28</td>\n",
       "      <td>103.46</td>\n",
       "      <td>4.04</td>\n",
       "      <td>3.48</td>\n",
       "      <td>112.54</td>\n",
       "    </tr>\n",
       "  </tbody>\n",
       "</table>\n",
       "</div>"
      ],
      "text/plain": [
       "   is_genuine  diagonal  height_left  height_right  margin_low  margin_up  \\\n",
       "0        True    171.81       104.86        104.95        4.52       2.89   \n",
       "1        True    171.46       103.36        103.66        3.77       2.99   \n",
       "2        True    172.69       104.48        103.50        4.40       2.94   \n",
       "3        True    171.36       103.91        103.94        3.62       3.01   \n",
       "4        True    171.73       104.28        103.46        4.04       3.48   \n",
       "\n",
       "   length  \n",
       "0  112.83  \n",
       "1  113.09  \n",
       "2  113.16  \n",
       "3  113.51  \n",
       "4  112.54  "
      ]
     },
     "execution_count": 139,
     "metadata": {},
     "output_type": "execute_result"
    }
   ],
   "source": [
    "data.head()"
   ]
  },
  {
   "cell_type": "markdown",
   "id": "743cccf5-359d-4525-b4e3-0bfe569b0585",
   "metadata": {
    "slideshow": {
     "slide_type": "slide"
    }
   },
   "source": [
    "### <a name=\"C4\"> 2.1. Analyse en composanates principales </a>"
   ]
  },
  {
   "cell_type": "code",
   "execution_count": 143,
   "id": "b76a85d3",
   "metadata": {
    "slideshow": {
     "slide_type": "fragment"
    }
   },
   "outputs": [],
   "source": [
    "X = features\n",
    "\n",
    "# Standardize the data\n",
    "scaler = StandardScaler()\n",
    "X_scaled = scaler.fit_transform(X)"
   ]
  },
  {
   "cell_type": "code",
   "execution_count": 145,
   "id": "12b1ec4c",
   "metadata": {
    "slideshow": {
     "slide_type": "-"
    }
   },
   "outputs": [
    {
     "data": {
      "image/png": "[encoded data removed]",
      "text/plain": [
       "<Figure size 864x360 with 1 Axes>"
      ]
     },
     "metadata": {
      "needs_background": "light"
     },
     "output_type": "display_data"
    },
    {
     "data": {
      "text/html": [
       "\n",
       "        <script>\n",
       "            function code_toggle_4949227472142319794() {\n",
       "                $('div.cell.code_cell.rendered.selected').find('div.input').toggle();\n",
       "            }\n",
       "\n",
       "            \n",
       "        </script>\n",
       "\n",
       "        <a href=\"javascript:code_toggle_4949227472142319794()\">Toggle show/hide</a>\n",
       "    "
      ],
      "text/plain": [
       "<IPython.core.display.HTML object>"
      ]
     },
     "execution_count": 145,
     "metadata": {},
     "output_type": "execute_result"
    }
   ],
   "source": [
    "# After standardisation\n",
    "pd.DataFrame(X_scaled,columns=X.columns).plot(kind='density',sharex=True,figsize=(12,5),layout=(10,1))\n",
    "plt.title(\"Après standardisation\")\n",
    "plt.show()\n",
    "\n",
    "hide_toggle()"
   ]
  },
  {
   "cell_type": "code",
   "execution_count": 146,
   "id": "d7ee2213-637e-4fbb-8619-b8c8e43ded59",
   "metadata": {
    "slideshow": {
     "slide_type": "slide"
    }
   },
   "outputs": [],
   "source": [
    "# Create the PCA model\n",
    "model_pca = PCA(n_components=6)\n",
    "\n",
    "# Fit the model with the standardised data\n",
    "X_reduced = model_pca.fit_transform(X_scaled)"
   ]
  },
  {
   "cell_type": "code",
   "execution_count": 147,
   "id": "3e82f18b-67b2-446d-81b5-64a666302d6c",
   "metadata": {
    "slideshow": {
     "slide_type": "skip"
    }
   },
   "outputs": [
    {
     "data": {
      "image/png": "[encoded data removed]",
      "text/plain": [
       "<Figure size 432x288 with 1 Axes>"
      ]
     },
     "metadata": {
      "needs_background": "light"
     },
     "output_type": "display_data"
    },
    {
     "name": "stdout",
     "output_type": "stream",
     "text": [
      "\u001b[1mVariance expliquée cumulée :\u001b[0m [0.43 0.6  0.73 0.85 0.95 1.  ]\n"
     ]
    },
    {
     "data": {
      "text/html": [
       "\n",
       "        <script>\n",
       "            function code_toggle_15430690502519831955() {\n",
       "                $('div.cell.code_cell.rendered.selected').find('div.input').toggle();\n",
       "            }\n",
       "\n",
       "            \n",
       "        </script>\n",
       "\n",
       "        <a href=\"javascript:code_toggle_15430690502519831955()\">Toggle show/hide</a>\n",
       "    "
      ],
      "text/plain": [
       "<IPython.core.display.HTML object>"
      ]
     },
     "execution_count": 147,
     "metadata": {},
     "output_type": "execute_result"
    }
   ],
   "source": [
    "# Scree plot\n",
    "display_scree_plot(model_pca)\n",
    "\n",
    "# Explained variance ratio cumsum\n",
    "print('\\033[1m' +\"Variance expliquée cumulée :\"+'\\033[0m', model_pca.explained_variance_ratio_.cumsum().round(2))\n",
    "\n",
    "# Nombre de composantes à étudier\n",
    "num_components = 6\n",
    "pcs = model_pca.components_ \n",
    "pc1 = model_pca.components_[0]\n",
    "pc2 = model_pca.components_[1]\n",
    "pc3 = model_pca.components_[2]\n",
    "pc4 = model_pca.components_[3]\n",
    "pc5 = model_pca.components_[4]\n",
    "pc6 = model_pca.components_[5]\n",
    "\n",
    "\n",
    "classed_data = data.copy()\n",
    "rank_band = [classed_data.loc[note_id, \"is_genuine\"] for note_id in classed_data.index]\n",
    "X_projected = model_pca.transform(X_scaled)\n",
    "\n",
    "hide_toggle()"
   ]
  },
  {
   "cell_type": "code",
   "execution_count": 148,
   "id": "4b7bdaac-f7a3-4d2a-b731-35eb72d071c9",
   "metadata": {
    "slideshow": {
     "slide_type": "fragment"
    }
   },
   "outputs": [
    {
     "data": {
      "image/png": "[encoded data removed]",
      "text/plain": [
       "<Figure size 1440x1440 with 2 Axes>"
      ]
     },
     "metadata": {
      "needs_background": "light"
     },
     "output_type": "display_data"
    },
    {
     "data": {
      "text/html": [
       "\n",
       "        <script>\n",
       "            function code_toggle_13646352605238503727() {\n",
       "                $('div.cell.code_cell.rendered.selected').find('div.input').toggle();\n",
       "            }\n",
       "\n",
       "            \n",
       "        </script>\n",
       "\n",
       "        <a href=\"javascript:code_toggle_13646352605238503727()\">Toggle show/hide</a>\n",
       "    "
      ],
      "text/plain": [
       "<IPython.core.display.HTML object>"
      ]
     },
     "execution_count": 148,
     "metadata": {},
     "output_type": "execute_result"
    }
   ],
   "source": [
    "# Cercle des corrélations vs Plan factoriel\n",
    "plt.figure(figsize=(20,20))\n",
    "plt.subplot(2,2,1)\n",
    "display_circles(pcs, num_components, model_pca, [(0,1)], labels = np.array(X.columns))\n",
    "plt.subplot(2,2,2)\n",
    "display_factorial_planes(X_projected, num_components, model_pca, [(0,1)], illustrative_var = rank_band, alpha = 0.5)\n",
    "plt.show()\n",
    "hide_toggle()"
   ]
  },
  {
   "cell_type": "code",
   "execution_count": 149,
   "id": "b79cb188",
   "metadata": {
    "slideshow": {
     "slide_type": "skip"
    }
   },
   "outputs": [
    {
     "data": {
      "image/png": "[encoded data removed]",
      "text/plain": [
       "<Figure size 1440x1080 with 4 Axes>"
      ]
     },
     "metadata": {
      "needs_background": "light"
     },
     "output_type": "display_data"
    },
    {
     "data": {
      "text/html": [
       "\n",
       "        <script>\n",
       "            function code_toggle_8874795238602102694() {\n",
       "                $('div.cell.code_cell.rendered.selected').find('div.input').toggle();\n",
       "            }\n",
       "\n",
       "            \n",
       "        </script>\n",
       "\n",
       "        <a href=\"javascript:code_toggle_8874795238602102694()\">Toggle show/hide</a>\n",
       "    "
      ],
      "text/plain": [
       "<IPython.core.display.HTML object>"
      ]
     },
     "execution_count": 149,
     "metadata": {},
     "output_type": "execute_result"
    }
   ],
   "source": [
    "\n",
    "# Matrcices des corrélations\n",
    "pcs2 = pd.DataFrame(pcs, columns=['diagonal', 'height_left', 'height_right', 'margin_low', 'margin_up','length'],)\n",
    "pcs2.index = [\"pc1\",\"pc2\",\"pc3\", \"pc4\", \"pc5\", \"pc6\"]\n",
    "\n",
    "plt.figure(figsize=(20,15))\n",
    "plt.subplot(2,2,1)\n",
    "sns.heatmap(pcs2, annot=True,linecolor='k', linewidths=2,vmin=-1, vmax=1, cmap=\"Blues\")\n",
    "plt.subplot(2,2,2)\n",
    "mask = np.triu(np.ones_like(X.corr(), dtype=bool))\n",
    "sns.heatmap(X.corr(), mask=mask, vmin=-1, vmax=1, annot=True,linecolor='k', linewidths=2, cmap=\"Blues\")\n",
    "plt.show()\n",
    "hide_toggle()"
   ]
  },
  {
   "cell_type": "markdown",
   "id": "c9f87af7-1bb4-4b16-8968-1ab040c92aef",
   "metadata": {
    "slideshow": {
     "slide_type": "skip"
    }
   },
   "source": [
    "<div class=\"alert-info\">\n",
    "    <p><b>PC1 : </b>Corrélations positives entre 'height_left', 'height_right', 'margin_low', 'margin_up' et PC1 face à une corrélation négative avec length. Légère contribution négative de diagonal sur PC1</p>\n",
    "<p><b>PC2 : </b> Forte corrélation positive entre PC2 et diagonal. Légères contributions positives de height_left, height_right et length. Légères contributions négatives de 'margin_low', 'margin_up' </p>\n",
    "    <p><b>De manière générale, les vrais billets auront une length plus élévée alorsque les variables height_left, height_right, margin_low et margin_up seront plus élévées au niveau des faux billets.</b></p>\n",
    "</div>"
   ]
  },
  {
   "cell_type": "markdown",
   "id": "da7ccd0a-9cc3-4ebb-9986-7ffa7f611e73",
   "metadata": {
    "slideshow": {
     "slide_type": "slide"
    }
   },
   "source": [
    "### <a name=\"C5\">2.2. Recherche du nombre optimal de cluster </a>"
   ]
  },
  {
   "cell_type": "markdown",
   "id": "78ec0bf7-01a1-4523-a1b8-4194c3a4c792",
   "metadata": {
    "slideshow": {
     "slide_type": "fragment"
    }
   },
   "source": [
    "#### 2.2.1. Elbow method"
   ]
  },
  {
   "cell_type": "code",
   "execution_count": 150,
   "id": "125ba235-97cf-4552-b42a-52b2a1f7491a",
   "metadata": {
    "slideshow": {
     "slide_type": "-"
    }
   },
   "outputs": [
    {
     "data": {
      "image/png": "[encoded data removed]",
      "text/plain": [
       "<Figure size 432x288 with 1 Axes>"
      ]
     },
     "metadata": {
      "needs_background": "light"
     },
     "output_type": "display_data"
    },
    {
     "data": {
      "text/html": [
       "\n",
       "        <script>\n",
       "            function code_toggle_6762750264067600613() {\n",
       "                $('div.cell.code_cell.rendered.selected').find('div.input').toggle();\n",
       "            }\n",
       "\n",
       "            \n",
       "        </script>\n",
       "\n",
       "        <a href=\"javascript:code_toggle_6762750264067600613()\">Toggle show/hide</a>\n",
       "    "
      ],
      "text/plain": [
       "<IPython.core.display.HTML object>"
      ]
     },
     "execution_count": 150,
     "metadata": {},
     "output_type": "execute_result"
    }
   ],
   "source": [
    "#Using the elbow method to find the optimum number of clusters\n",
    "from sklearn.cluster import KMeans\n",
    "wcss = []\n",
    "mapping1 = {}\n",
    "for i in range(1,6):\n",
    "    km=KMeans(n_clusters=i)\n",
    "    km.fit(X_scaled)\n",
    "    wcss.append(km.inertia_)\n",
    "    mapping1[i] = km.inertia_\n",
    "plt.plot(range(1,6),wcss)\n",
    "plt.title('Elbow Method')\n",
    "plt.xlabel('Nombre de Clusters')\n",
    "plt.ylabel('Inerties')\n",
    "plt.show()\n",
    "hide_toggle()"
   ]
  },
  {
   "cell_type": "markdown",
   "id": "3548e2c5-e31d-473e-b8e4-5b134e1e314d",
   "metadata": {
    "slideshow": {
     "slide_type": "fragment"
    }
   },
   "source": [
    "\n",
    "<div class=\"alert-info\">\n",
    "    <p><strong> Selon la méthode elbow, le nombre optimal de cluster est 2 </strong></p>\n",
    "</div>\n",
    "<br>"
   ]
  },
  {
   "cell_type": "markdown",
   "id": "aa1447f8-262c-4cd6-b8ae-e1bbaf07ca4c",
   "metadata": {
    "slideshow": {
     "slide_type": "slide"
    }
   },
   "source": [
    "#### 2.2.2. Silhouette Score"
   ]
  },
  {
   "cell_type": "code",
   "execution_count": 151,
   "id": "51fd0e6d-aa28-4a14-8e23-1ecf07587e4d",
   "metadata": {
    "slideshow": {
     "slide_type": "-"
    }
   },
   "outputs": [
    {
     "name": "stdout",
     "output_type": "stream",
     "text": [
      "For n_clusters = 2, silhouette score is 0.34345323385360266)\n",
      "For n_clusters = 3, silhouette score is 0.21100718307376048)\n",
      "For n_clusters = 4, silhouette score is 0.19647487510377243)\n",
      "For n_clusters = 5, silhouette score is 0.156466773283129)\n",
      "For n_clusters = 6, silhouette score is 0.1494558366462989)\n",
      "For n_clusters = 7, silhouette score is 0.14458263432936402)\n",
      "For n_clusters = 8, silhouette score is 0.1455972978611537)\n",
      "For n_clusters = 9, silhouette score is 0.1389266651546348)\n"
     ]
    },
    {
     "data": {
      "text/html": [
       "\n",
       "        <script>\n",
       "            function code_toggle_7138390766411169146() {\n",
       "                $('div.cell.code_cell.rendered.selected').find('div.input').toggle();\n",
       "            }\n",
       "\n",
       "            \n",
       "        </script>\n",
       "\n",
       "        <a href=\"javascript:code_toggle_7138390766411169146()\">Toggle show/hide</a>\n",
       "    "
      ],
      "text/plain": [
       "<IPython.core.display.HTML object>"
      ]
     },
     "execution_count": 151,
     "metadata": {},
     "output_type": "execute_result"
    }
   ],
   "source": [
    "from sklearn.cluster import KMeans\n",
    "from sklearn.metrics import silhouette_score\n",
    "range_n_clusters = list (range(2,10))\n",
    "for n_clusters in range_n_clusters:\n",
    "    clusterer = KMeans(n_clusters=n_clusters)\n",
    "    preds = clusterer.fit_predict(X_scaled)\n",
    "    score = silhouette_score(X_scaled, preds)\n",
    "    print(\"For n_clusters = {}, silhouette score is {})\".format(n_clusters, score))\n",
    "hide_toggle()"
   ]
  },
  {
   "cell_type": "markdown",
   "id": "1117cf96-fd58-433c-b68c-8d9c50e32b23",
   "metadata": {
    "slideshow": {
     "slide_type": "fragment"
    }
   },
   "source": [
    "\n",
    "<div class=\"alert-info\">\n",
    "    <p><strong> Le score de silhouhette confirme le nombre optimal de cluster égale à 2 </strong></p>\n",
    "</div>\n",
    "<br>"
   ]
  },
  {
   "cell_type": "markdown",
   "id": "ec7594f3-d169-4118-8069-61dbb639a98a",
   "metadata": {
    "slideshow": {
     "slide_type": "slide"
    }
   },
   "source": [
    "### <a name=\"C6\">2.3. Kmeans </a>"
   ]
  },
  {
   "cell_type": "code",
   "execution_count": 152,
   "id": "1f69c625",
   "metadata": {
    "slideshow": {
     "slide_type": "fragment"
    }
   },
   "outputs": [
    {
     "data": {
      "text/plain": [
       "array([1, 0, 0, ..., 1, 1, 1])"
      ]
     },
     "execution_count": 152,
     "metadata": {},
     "output_type": "execute_result"
    }
   ],
   "source": [
    "model_kmeans = KMeans(n_clusters=2,random_state = 0)\n",
    "model_kmeans.fit_predict(X_scaled)"
   ]
  },
  {
   "cell_type": "code",
   "execution_count": 154,
   "id": "09122e17-f3ab-404b-aaf2-b702b4062134",
   "metadata": {
    "slideshow": {
     "slide_type": "skip"
    }
   },
   "outputs": [],
   "source": [
    "clusters =  model_kmeans.labels_\n",
    "\n",
    "# Add the cluster number to the original scaled data\n",
    "X_clustered = pd.DataFrame(X_scaled, index=X.index, columns=X.columns)\n",
    "X_clustered[\"cluster\"] =   clusters\n",
    "X_clustered.head()\n",
    "\n",
    "centres_reduced = model_pca.transform(model_kmeans.cluster_centers_)"
   ]
  },
  {
   "cell_type": "code",
   "execution_count": 155,
   "id": "23469cb2",
   "metadata": {
    "slideshow": {
     "slide_type": "fragment"
    }
   },
   "outputs": [
    {
     "data": {
      "image/png": "[encoded data removed]",
      "text/plain": [
       "<Figure size 864x648 with 1 Axes>"
      ]
     },
     "metadata": {
      "needs_background": "light"
     },
     "output_type": "display_data"
    },
    {
     "data": {
      "text/html": [
       "\n",
       "        <script>\n",
       "            function code_toggle_12273923183025952076() {\n",
       "                $('div.cell.code_cell.rendered.selected').find('div.input').toggle();\n",
       "            }\n",
       "\n",
       "            \n",
       "        </script>\n",
       "\n",
       "        <a href=\"javascript:code_toggle_12273923183025952076()\">Toggle show/hide</a>\n",
       "    "
      ],
      "text/plain": [
       "<IPython.core.display.HTML object>"
      ]
     },
     "execution_count": 155,
     "metadata": {},
     "output_type": "execute_result"
    }
   ],
   "source": [
    "# Projection sur le premier plan factoriel\n",
    "plt.figure(figsize=(12,9))\n",
    "display_factorial_planes(X_reduced, 2, model_pca, [(0,1)], illustrative_var = clusters, alpha = 0.6)\n",
    "plt.scatter(centres_reduced[:, 0], centres_reduced[:, 1], marker='x', s=169, linewidths=3,color='black', zorder=10)\n",
    "plt.show()\n",
    "hide_toggle()"
   ]
  },
  {
   "cell_type": "code",
   "execution_count": 156,
   "id": "3f5dcf46",
   "metadata": {
    "slideshow": {
     "slide_type": "slide"
    }
   },
   "outputs": [
    {
     "data": {
      "text/html": [
       "\n",
       "        <script>\n",
       "            function code_toggle_14028056531290678948() {\n",
       "                $('div.cell.code_cell.rendered.selected').find('div.input').toggle();\n",
       "            }\n",
       "\n",
       "            \n",
       "        </script>\n",
       "\n",
       "        <a href=\"javascript:code_toggle_14028056531290678948()\">Toggle show/hide</a>\n",
       "    "
      ],
      "text/plain": [
       "<IPython.core.display.HTML object>"
      ]
     },
     "execution_count": 156,
     "metadata": {},
     "output_type": "execute_result"
    },
    {
     "data": {
      "image/png": "[encoded data removed]",
      "text/plain": [
       "<Figure size 864x360 with 1 Axes>"
      ]
     },
     "metadata": {
      "needs_background": "light"
     },
     "output_type": "display_data"
    }
   ],
   "source": [
    "# Visualisation des centroïdes en coordonnées parallèles\n",
    "kmeans_ =  X_clustered.groupby(by=\"cluster\").mean()\n",
    "display_parallel_coordinates_centroids(kmeans_.reset_index(), 5)\n",
    "hide_toggle()"
   ]
  },
  {
   "cell_type": "markdown",
   "id": "a2149665-67ab-4561-a314-eed682b633a9",
   "metadata": {
    "slideshow": {
     "slide_type": "skip"
    }
   },
   "source": [
    "<div class=\"alert-info\">\n",
    "    <p><b>Cluster 0 : </b>vrais billets </p>\n",
    "    <p><b>Cluster 1 : </b> faux billets </p>\n",
    "    <p><b>Deux dimensions géométriques sont plus élévées sur le cluster 0</b> qui est le groupe des vrais billets. Il s'agit de :</p>\n",
    "    <ul><li><b>length</b> qui est la longueur du billet (en mm) </li> \n",
    "        <li><b> et diagonal </b> qui représente la diagonale du billet (en mm) </li></ul>\n",
    "    <p><b>Les 4 autres mésures sont quant à elles plus élévées sur le cluster1 </b> qui est celui des faux billets. Ce sont : </p>\n",
    "    <ul><li><b>height_left </b>: la hauteur du billet (mesurée sur le côté gauche, enmm) </li>\n",
    "        <li><b>height_right</b> : la hauteur du billet (mesurée sur le côté droit, en mm) </li>\n",
    "        <li><b>margin_up</b> : la marge entre le bord supérieur du billet et l'image decelui-ci (en mm) </li>\n",
    "        <li><b>margin_low </b>: la marge entre le bord inférieur du billet et l'image decelui-ci (en mm) </li> </ul>\n",
    "</div>"
   ]
  },
  {
   "cell_type": "code",
   "execution_count": 157,
   "id": "e8c25c49-0484-4b48-b62a-bafd02f5f30f",
   "metadata": {
    "slideshow": {
     "slide_type": "skip"
    }
   },
   "outputs": [
    {
     "data": {
      "image/png": "[encoded data removed]",
      "text/plain": [
       "<Figure size 864x288 with 4 Axes>"
      ]
     },
     "metadata": {
      "needs_background": "light"
     },
     "output_type": "display_data"
    },
    {
     "data": {
      "text/html": [
       "\n",
       "        <script>\n",
       "            function code_toggle_18279133316691400533() {\n",
       "                $('div.cell.code_cell.rendered.selected').find('div.input').toggle();\n",
       "            }\n",
       "\n",
       "            \n",
       "        </script>\n",
       "\n",
       "        <a href=\"javascript:code_toggle_18279133316691400533()\">Toggle show/hide</a>\n",
       "    "
      ],
      "text/plain": [
       "<IPython.core.display.HTML object>"
      ]
     },
     "execution_count": 157,
     "metadata": {},
     "output_type": "execute_result"
    }
   ],
   "source": [
    "# Composition des groupes\n",
    "sns.clustermap(kmeans_, annot=True,linecolor='k', linewidths=2,vmin=-1, vmax=1,figsize=(12,4))\n",
    "plt.show()\n",
    "\n",
    "hide_toggle()"
   ]
  },
  {
   "cell_type": "markdown",
   "id": "c3e85305-c4cf-447d-9c12-8a2c4bc4c877",
   "metadata": {
    "slideshow": {
     "slide_type": "slide"
    }
   },
   "source": [
    "### <a name=\"C8\">2.4. Évaluation du modèle kmeans</a>"
   ]
  },
  {
   "cell_type": "code",
   "execution_count": 158,
   "id": "968061ae",
   "metadata": {
    "slideshow": {
     "slide_type": "skip"
    }
   },
   "outputs": [
    {
     "data": {
      "text/html": [
       "<div>\n",
       "<style scoped>\n",
       "    .dataframe tbody tr th:only-of-type {\n",
       "        vertical-align: middle;\n",
       "    }\n",
       "\n",
       "    .dataframe tbody tr th {\n",
       "        vertical-align: top;\n",
       "    }\n",
       "\n",
       "    .dataframe thead th {\n",
       "        text-align: right;\n",
       "    }\n",
       "</style>\n",
       "<table border=\"1\" class=\"dataframe\">\n",
       "  <thead>\n",
       "    <tr style=\"text-align: right;\">\n",
       "      <th></th>\n",
       "      <th>is_genuine</th>\n",
       "      <th>diagonal</th>\n",
       "      <th>height_left</th>\n",
       "      <th>height_right</th>\n",
       "      <th>margin_low</th>\n",
       "      <th>margin_up</th>\n",
       "      <th>length</th>\n",
       "      <th>cluster_origin</th>\n",
       "      <th>cluster_kmeans</th>\n",
       "    </tr>\n",
       "  </thead>\n",
       "  <tbody>\n",
       "    <tr>\n",
       "      <th>0</th>\n",
       "      <td>True</td>\n",
       "      <td>171.81</td>\n",
       "      <td>104.86</td>\n",
       "      <td>104.95</td>\n",
       "      <td>4.52</td>\n",
       "      <td>2.89</td>\n",
       "      <td>112.83</td>\n",
       "      <td>0</td>\n",
       "      <td>1</td>\n",
       "    </tr>\n",
       "    <tr>\n",
       "      <th>1</th>\n",
       "      <td>True</td>\n",
       "      <td>171.46</td>\n",
       "      <td>103.36</td>\n",
       "      <td>103.66</td>\n",
       "      <td>3.77</td>\n",
       "      <td>2.99</td>\n",
       "      <td>113.09</td>\n",
       "      <td>0</td>\n",
       "      <td>0</td>\n",
       "    </tr>\n",
       "    <tr>\n",
       "      <th>2</th>\n",
       "      <td>True</td>\n",
       "      <td>172.69</td>\n",
       "      <td>104.48</td>\n",
       "      <td>103.50</td>\n",
       "      <td>4.40</td>\n",
       "      <td>2.94</td>\n",
       "      <td>113.16</td>\n",
       "      <td>0</td>\n",
       "      <td>0</td>\n",
       "    </tr>\n",
       "    <tr>\n",
       "      <th>3</th>\n",
       "      <td>True</td>\n",
       "      <td>171.36</td>\n",
       "      <td>103.91</td>\n",
       "      <td>103.94</td>\n",
       "      <td>3.62</td>\n",
       "      <td>3.01</td>\n",
       "      <td>113.51</td>\n",
       "      <td>0</td>\n",
       "      <td>0</td>\n",
       "    </tr>\n",
       "    <tr>\n",
       "      <th>4</th>\n",
       "      <td>True</td>\n",
       "      <td>171.73</td>\n",
       "      <td>104.28</td>\n",
       "      <td>103.46</td>\n",
       "      <td>4.04</td>\n",
       "      <td>3.48</td>\n",
       "      <td>112.54</td>\n",
       "      <td>0</td>\n",
       "      <td>0</td>\n",
       "    </tr>\n",
       "  </tbody>\n",
       "</table>\n",
       "</div>"
      ],
      "text/plain": [
       "   is_genuine  diagonal  height_left  height_right  margin_low  margin_up  \\\n",
       "0        True    171.81       104.86        104.95        4.52       2.89   \n",
       "1        True    171.46       103.36        103.66        3.77       2.99   \n",
       "2        True    172.69       104.48        103.50        4.40       2.94   \n",
       "3        True    171.36       103.91        103.94        3.62       3.01   \n",
       "4        True    171.73       104.28        103.46        4.04       3.48   \n",
       "\n",
       "   length  cluster_origin  cluster_kmeans  \n",
       "0  112.83               0               1  \n",
       "1  113.09               0               0  \n",
       "2  113.16               0               0  \n",
       "3  113.51               0               0  \n",
       "4  112.54               0               0  "
      ]
     },
     "metadata": {},
     "output_type": "display_data"
    },
    {
     "data": {
      "text/html": [
       "\n",
       "        <script>\n",
       "            function code_toggle_2828580269055828340() {\n",
       "                $('div.cell.code_cell.rendered.selected').find('div.input').toggle();\n",
       "            }\n",
       "\n",
       "            \n",
       "        </script>\n",
       "\n",
       "        <a href=\"javascript:code_toggle_2828580269055828340()\">Toggle show/hide</a>\n",
       "    "
      ],
      "text/plain": [
       "<IPython.core.display.HTML object>"
      ]
     },
     "execution_count": 158,
     "metadata": {},
     "output_type": "execute_result"
    }
   ],
   "source": [
    "encoder = LabelEncoder()\n",
    "\n",
    "def converter(cluster):\n",
    "    if cluster==True:\n",
    "        return 1\n",
    "    else:\n",
    "        return 0\n",
    "    \n",
    "data_kmeans = data.copy()   \n",
    "data_kmeans['cluster_origin'] = encoder.fit_transform(np.invert(data_kmeans[\"is_genuine\"]))\n",
    "data_kmeans['cluster_kmeans'] = model_kmeans.labels_\n",
    "\n",
    "display(data_kmeans.head())\n",
    "hide_toggle()"
   ]
  },
  {
   "cell_type": "code",
   "execution_count": 159,
   "id": "3a079dd0",
   "metadata": {
    "slideshow": {
     "slide_type": "fragment"
    }
   },
   "outputs": [
    {
     "name": "stdout",
     "output_type": "stream",
     "text": [
      "              precision    recall  f1-score   support\n",
      "\n",
      "           0       0.99      0.99      0.99      1000\n",
      "           1       0.98      0.97      0.98       500\n",
      "\n",
      "    accuracy                           0.98      1500\n",
      "   macro avg       0.98      0.98      0.98      1500\n",
      "weighted avg       0.98      0.98      0.98      1500\n",
      "\n"
     ]
    },
    {
     "data": {
      "text/html": [
       "\n",
       "        <script>\n",
       "            function code_toggle_159327209940277330() {\n",
       "                $('div.cell.code_cell.rendered.selected').find('div.input').toggle();\n",
       "            }\n",
       "\n",
       "            \n",
       "        </script>\n",
       "\n",
       "        <a href=\"javascript:code_toggle_159327209940277330()\">Toggle show/hide</a>\n",
       "    "
      ],
      "text/plain": [
       "<IPython.core.display.HTML object>"
      ]
     },
     "execution_count": 159,
     "metadata": {},
     "output_type": "execute_result"
    }
   ],
   "source": [
    "print(metrics.classification_report(data_kmeans['cluster_origin'],data_kmeans['cluster_kmeans']))\n",
    "hide_toggle()"
   ]
  },
  {
   "cell_type": "code",
   "execution_count": 160,
   "id": "70c1df89-66a0-4197-86d5-b1b2a976c763",
   "metadata": {
    "slideshow": {
     "slide_type": "fragment"
    }
   },
   "outputs": [
    {
     "data": {
      "image/png": "[encoded data removed]",
      "text/plain": [
       "<Figure size 504x360 with 2 Axes>"
      ]
     },
     "metadata": {
      "needs_background": "light"
     },
     "output_type": "display_data"
    },
    {
     "data": {
      "text/html": [
       "\n",
       "        <script>\n",
       "            function code_toggle_9221571290131694456() {\n",
       "                $('div.cell.code_cell.rendered.selected').find('div.input').toggle();\n",
       "            }\n",
       "\n",
       "            \n",
       "        </script>\n",
       "\n",
       "        <a href=\"javascript:code_toggle_9221571290131694456()\">Toggle show/hide</a>\n",
       "    "
      ],
      "text/plain": [
       "<IPython.core.display.HTML object>"
      ]
     },
     "execution_count": 160,
     "metadata": {},
     "output_type": "execute_result"
    }
   ],
   "source": [
    "conf_matrix = pd.crosstab(data_kmeans['cluster_origin'], model_kmeans.labels_)\n",
    "plt.figure(figsize=(7,5))\n",
    "sns.heatmap(conf_matrix, annot = True, fmt = \".3g\", linewidths = 0.3)\n",
    "plt.xlabel(\"Cluster\")\n",
    "plt.title(\"Matrice de confusion Kmeans\\n\")\n",
    "plt.show()\n",
    "hide_toggle()"
   ]
  },
  {
   "cell_type": "markdown",
   "id": "02a9fcc9",
   "metadata": {
    "slideshow": {
     "slide_type": "skip"
    }
   },
   "source": [
    "<div class=\"alert-info\">\n",
    "    <p><b> Sur 1000 billets de la classe 0: </b> nous avons <b>990 bien classés</b> contre <b> 10 mal classés</b>. </p>\n",
    "    <p><b> Sur 500 billets de la classe 1: </b> nous avons <b>486 bien classés</b> contre <b> 14 mal classés</b>. </p> \n",
    "    <p><b>Taux de précision</b> pour la prédiction des <b>vrais billets</b> : <b>99% </b></p>\n",
    "    <p><b>Taux de précision</b> pour la prédiction des <b>faux billets</b> : <b>98% </b></p>\n",
    "        </div>"
   ]
  },
  {
   "cell_type": "markdown",
   "id": "25626e8e-5bc5-4bf4-a155-b0bd9fe13390",
   "metadata": {
    "slideshow": {
     "slide_type": "slide"
    }
   },
   "source": [
    "<center><h2> 3. Régression logistique </center></h2> "
   ]
  },
  {
   "cell_type": "markdown",
   "id": "4edb2a3a-548b-48a3-a403-1fc26efc7108",
   "metadata": {
    "slideshow": {
     "slide_type": "skip"
    }
   },
   "source": [
    "### <a name=\"C7\">3.1. Implémentation</a>"
   ]
  },
  {
   "cell_type": "code",
   "execution_count": 161,
   "id": "d539c9a2-1d3d-4dc2-8ad2-8ccb5be89d05",
   "metadata": {
    "slideshow": {
     "slide_type": "skip"
    }
   },
   "outputs": [
    {
     "name": "stdout",
     "output_type": "stream",
     "text": [
      "Aperçu des features\n"
     ]
    },
    {
     "data": {
      "text/html": [
       "<div>\n",
       "<style scoped>\n",
       "    .dataframe tbody tr th:only-of-type {\n",
       "        vertical-align: middle;\n",
       "    }\n",
       "\n",
       "    .dataframe tbody tr th {\n",
       "        vertical-align: top;\n",
       "    }\n",
       "\n",
       "    .dataframe thead th {\n",
       "        text-align: right;\n",
       "    }\n",
       "</style>\n",
       "<table border=\"1\" class=\"dataframe\">\n",
       "  <thead>\n",
       "    <tr style=\"text-align: right;\">\n",
       "      <th></th>\n",
       "      <th>diagonal</th>\n",
       "      <th>height_left</th>\n",
       "      <th>height_right</th>\n",
       "      <th>margin_low</th>\n",
       "      <th>margin_up</th>\n",
       "      <th>length</th>\n",
       "    </tr>\n",
       "  </thead>\n",
       "  <tbody>\n",
       "    <tr>\n",
       "      <th>0</th>\n",
       "      <td>171.81</td>\n",
       "      <td>104.86</td>\n",
       "      <td>104.95</td>\n",
       "      <td>4.52</td>\n",
       "      <td>2.89</td>\n",
       "      <td>112.83</td>\n",
       "    </tr>\n",
       "    <tr>\n",
       "      <th>1</th>\n",
       "      <td>171.46</td>\n",
       "      <td>103.36</td>\n",
       "      <td>103.66</td>\n",
       "      <td>3.77</td>\n",
       "      <td>2.99</td>\n",
       "      <td>113.09</td>\n",
       "    </tr>\n",
       "    <tr>\n",
       "      <th>2</th>\n",
       "      <td>172.69</td>\n",
       "      <td>104.48</td>\n",
       "      <td>103.50</td>\n",
       "      <td>4.40</td>\n",
       "      <td>2.94</td>\n",
       "      <td>113.16</td>\n",
       "    </tr>\n",
       "    <tr>\n",
       "      <th>3</th>\n",
       "      <td>171.36</td>\n",
       "      <td>103.91</td>\n",
       "      <td>103.94</td>\n",
       "      <td>3.62</td>\n",
       "      <td>3.01</td>\n",
       "      <td>113.51</td>\n",
       "    </tr>\n",
       "    <tr>\n",
       "      <th>4</th>\n",
       "      <td>171.73</td>\n",
       "      <td>104.28</td>\n",
       "      <td>103.46</td>\n",
       "      <td>4.04</td>\n",
       "      <td>3.48</td>\n",
       "      <td>112.54</td>\n",
       "    </tr>\n",
       "  </tbody>\n",
       "</table>\n",
       "</div>"
      ],
      "text/plain": [
       "   diagonal  height_left  height_right  margin_low  margin_up  length\n",
       "0    171.81       104.86        104.95        4.52       2.89  112.83\n",
       "1    171.46       103.36        103.66        3.77       2.99  113.09\n",
       "2    172.69       104.48        103.50        4.40       2.94  113.16\n",
       "3    171.36       103.91        103.94        3.62       3.01  113.51\n",
       "4    171.73       104.28        103.46        4.04       3.48  112.54"
      ]
     },
     "metadata": {},
     "output_type": "display_data"
    },
    {
     "data": {
      "text/html": [
       "\n",
       "        <script>\n",
       "            function code_toggle_15769303646604307648() {\n",
       "                $('div.cell.code_cell.rendered.selected').find('div.input').toggle();\n",
       "            }\n",
       "\n",
       "            \n",
       "        </script>\n",
       "\n",
       "        <a href=\"javascript:code_toggle_15769303646604307648()\">Toggle show/hide</a>\n",
       "    "
      ],
      "text/plain": [
       "<IPython.core.display.HTML object>"
      ]
     },
     "execution_count": 161,
     "metadata": {},
     "output_type": "execute_result"
    }
   ],
   "source": [
    "data_reg_log = data.copy()\n",
    "data_reg_log[\"is_genuine\"] = encoder.fit_transform(data_reg_log[\"is_genuine\"])\n",
    "# Définir notre variable dépendante y et nos varaibles indépendantes X\n",
    "X = data_reg_log.iloc[:, 1:]\n",
    "y = data_reg_log.iloc[:, 0]\n",
    "print(\"Aperçu des features\")\n",
    "display(X.head())\n",
    "hide_toggle()"
   ]
  },
  {
   "cell_type": "code",
   "execution_count": 162,
   "id": "ebc8f2dc-22c6-4e38-bb0f-73e0cedac91a",
   "metadata": {
    "slideshow": {
     "slide_type": "fragment"
    }
   },
   "outputs": [
    {
     "data": {
      "text/html": [
       "<style>#sk-container-id-3 {color: black;background-color: white;}#sk-container-id-3 pre{padding: 0;}#sk-container-id-3 div.sk-toggleable {background-color: white;}#sk-container-id-3 label.sk-toggleable__label {cursor: pointer;display: block;width: 100%;margin-bottom: 0;padding: 0.3em;box-sizing: border-box;text-align: center;}#sk-container-id-3 label.sk-toggleable__label-arrow:before {content: \"▸\";float: left;margin-right: 0.25em;color: #696969;}#sk-container-id-3 label.sk-toggleable__label-arrow:hover:before {color: black;}#sk-container-id-3 div.sk-estimator:hover label.sk-toggleable__label-arrow:before {color: black;}#sk-container-id-3 div.sk-toggleable__content {max-height: 0;max-width: 0;overflow: hidden;text-align: left;background-color: #f0f8ff;}#sk-container-id-3 div.sk-toggleable__content pre {margin: 0.2em;color: black;border-radius: 0.25em;background-color: #f0f8ff;}#sk-container-id-3 input.sk-toggleable__control:checked~div.sk-toggleable__content {max-height: 200px;max-width: 100%;overflow: auto;}#sk-container-id-3 input.sk-toggleable__control:checked~label.sk-toggleable__label-arrow:before {content: \"▾\";}#sk-container-id-3 div.sk-estimator input.sk-toggleable__control:checked~label.sk-toggleable__label {background-color: #d4ebff;}#sk-container-id-3 div.sk-label input.sk-toggleable__control:checked~label.sk-toggleable__label {background-color: #d4ebff;}#sk-container-id-3 input.sk-hidden--visually {border: 0;clip: rect(1px 1px 1px 1px);clip: rect(1px, 1px, 1px, 1px);height: 1px;margin: -1px;overflow: hidden;padding: 0;position: absolute;width: 1px;}#sk-container-id-3 div.sk-estimator {font-family: monospace;background-color: #f0f8ff;border: 1px dotted black;border-radius: 0.25em;box-sizing: border-box;margin-bottom: 0.5em;}#sk-container-id-3 div.sk-estimator:hover {background-color: #d4ebff;}#sk-container-id-3 div.sk-parallel-item::after {content: \"\";width: 100%;border-bottom: 1px solid gray;flex-grow: 1;}#sk-container-id-3 div.sk-label:hover label.sk-toggleable__label {background-color: #d4ebff;}#sk-container-id-3 div.sk-serial::before {content: \"\";position: absolute;border-left: 1px solid gray;box-sizing: border-box;top: 0;bottom: 0;left: 50%;z-index: 0;}#sk-container-id-3 div.sk-serial {display: flex;flex-direction: column;align-items: center;background-color: white;padding-right: 0.2em;padding-left: 0.2em;position: relative;}#sk-container-id-3 div.sk-item {position: relative;z-index: 1;}#sk-container-id-3 div.sk-parallel {display: flex;align-items: stretch;justify-content: center;background-color: white;position: relative;}#sk-container-id-3 div.sk-item::before, #sk-container-id-3 div.sk-parallel-item::before {content: \"\";position: absolute;border-left: 1px solid gray;box-sizing: border-box;top: 0;bottom: 0;left: 50%;z-index: -1;}#sk-container-id-3 div.sk-parallel-item {display: flex;flex-direction: column;z-index: 1;position: relative;background-color: white;}#sk-container-id-3 div.sk-parallel-item:first-child::after {align-self: flex-end;width: 50%;}#sk-container-id-3 div.sk-parallel-item:last-child::after {align-self: flex-start;width: 50%;}#sk-container-id-3 div.sk-parallel-item:only-child::after {width: 0;}#sk-container-id-3 div.sk-dashed-wrapped {border: 1px dashed gray;margin: 0 0.4em 0.5em 0.4em;box-sizing: border-box;padding-bottom: 0.4em;background-color: white;}#sk-container-id-3 div.sk-label label {font-family: monospace;font-weight: bold;display: inline-block;line-height: 1.2em;}#sk-container-id-3 div.sk-label-container {text-align: center;}#sk-container-id-3 div.sk-container {/* jupyter's `normalize.less` sets `[hidden] { display: none; }` but bootstrap.min.css set `[hidden] { display: none !important; }` so we also need the `!important` here to be able to override the default hidden behavior on the sphinx rendered scikit-learn.org. See: https://github.com/scikit-learn/scikit-learn/issues/21755 */display: inline-block !important;position: relative;}#sk-container-id-3 div.sk-text-repr-fallback {display: none;}</style><div id=\"sk-container-id-3\" class=\"sk-top-container\"><div class=\"sk-text-repr-fallback\"><pre>Pipeline(steps=[(&#x27;scaler&#x27;, StandardScaler()),\n",
       "                (&#x27;logistic&#x27;, LogisticRegression())])</pre><b>In a Jupyter environment, please rerun this cell to show the HTML representation or trust the notebook. <br />On GitHub, the HTML representation is unable to render, please try loading this page with nbviewer.org.</b></div><div class=\"sk-container\" hidden><div class=\"sk-item sk-dashed-wrapped\"><div class=\"sk-label-container\"><div class=\"sk-label sk-toggleable\"><input class=\"sk-toggleable__control sk-hidden--visually\" id=\"sk-estimator-id-9\" type=\"checkbox\" ><label for=\"sk-estimator-id-9\" class=\"sk-toggleable__label sk-toggleable__label-arrow\">Pipeline</label><div class=\"sk-toggleable__content\"><pre>Pipeline(steps=[(&#x27;scaler&#x27;, StandardScaler()),\n",
       "                (&#x27;logistic&#x27;, LogisticRegression())])</pre></div></div></div><div class=\"sk-serial\"><div class=\"sk-item\"><div class=\"sk-estimator sk-toggleable\"><input class=\"sk-toggleable__control sk-hidden--visually\" id=\"sk-estimator-id-10\" type=\"checkbox\" ><label for=\"sk-estimator-id-10\" class=\"sk-toggleable__label sk-toggleable__label-arrow\">StandardScaler</label><div class=\"sk-toggleable__content\"><pre>StandardScaler()</pre></div></div></div><div class=\"sk-item\"><div class=\"sk-estimator sk-toggleable\"><input class=\"sk-toggleable__control sk-hidden--visually\" id=\"sk-estimator-id-11\" type=\"checkbox\" ><label for=\"sk-estimator-id-11\" class=\"sk-toggleable__label sk-toggleable__label-arrow\">LogisticRegression</label><div class=\"sk-toggleable__content\"><pre>LogisticRegression()</pre></div></div></div></div></div></div></div>"
      ],
      "text/plain": [
       "Pipeline(steps=[('scaler', StandardScaler()),\n",
       "                ('logistic', LogisticRegression())])"
      ]
     },
     "execution_count": 162,
     "metadata": {},
     "output_type": "execute_result"
    }
   ],
   "source": [
    "# Création des sets\n",
    "X_train, X_test, y_train, y_test = train_test_split(X, y, test_size=0.2, random_state=0)\n",
    "\n",
    "# Pipeline \n",
    "model = Pipeline([('scaler', StandardScaler()), ('logistic', LogisticRegression())])\n",
    "model.fit(X_train, y_train)\n"
   ]
  },
  {
   "cell_type": "code",
   "execution_count": 163,
   "id": "f92f9eda",
   "metadata": {
    "slideshow": {
     "slide_type": "fragment"
    }
   },
   "outputs": [],
   "source": [
    "#Prédictions\n",
    "y_pred_test = model.predict(X_test)"
   ]
  },
  {
   "cell_type": "markdown",
   "id": "2eab5319-0451-41d3-ae29-978473b373f0",
   "metadata": {
    "slideshow": {
     "slide_type": "slide"
    }
   },
   "source": [
    "### <a name=\"C8\">3.2. Évaluation</a>"
   ]
  },
  {
   "cell_type": "code",
   "execution_count": 164,
   "id": "ae40ab8d-a95b-4ac4-8006-3ab349e39518",
   "metadata": {
    "slideshow": {
     "slide_type": "fragment"
    }
   },
   "outputs": [
    {
     "data": {
      "image/png": "[encoded data removed]",
      "text/plain": [
       "<Figure size 432x288 with 2 Axes>"
      ]
     },
     "metadata": {
      "needs_background": "light"
     },
     "output_type": "display_data"
    },
    {
     "data": {
      "text/html": [
       "\n",
       "        <script>\n",
       "            function code_toggle_17334664052003060538() {\n",
       "                $('div.cell.code_cell.rendered.selected').find('div.input').toggle();\n",
       "            }\n",
       "\n",
       "            \n",
       "        </script>\n",
       "\n",
       "        <a href=\"javascript:code_toggle_17334664052003060538()\">Toggle show/hide</a>\n",
       "    "
      ],
      "text/plain": [
       "<IPython.core.display.HTML object>"
      ]
     },
     "execution_count": 164,
     "metadata": {},
     "output_type": "execute_result"
    }
   ],
   "source": [
    "plt.figure(figsize=(6,4))\n",
    "conf_matrix_reglog = pd.crosstab( y_test, y_pred_test)\n",
    "sns.heatmap(conf_matrix_reglog, annot = True, fmt = \".3g\", linewidths = 0.3)\n",
    "plt.xlabel(\"predictions\")\n",
    "plt.title(\"Confusion Matrix\\n\")\n",
    "plt.show()\n",
    "\n",
    "hide_toggle()"
   ]
  },
  {
   "cell_type": "code",
   "execution_count": 165,
   "id": "f1689574",
   "metadata": {
    "slideshow": {
     "slide_type": "fragment"
    }
   },
   "outputs": [
    {
     "name": "stdout",
     "output_type": "stream",
     "text": [
      "Test score : 0.9966666666666667\n",
      "Train score : 0.9908333333333333\n"
     ]
    },
    {
     "data": {
      "text/html": [
       "\n",
       "        <script>\n",
       "            function code_toggle_5433859364501279067() {\n",
       "                $('div.cell.code_cell.rendered.selected').find('div.input').toggle();\n",
       "            }\n",
       "\n",
       "            \n",
       "        </script>\n",
       "\n",
       "        <a href=\"javascript:code_toggle_5433859364501279067()\">Toggle show/hide</a>\n",
       "    "
      ],
      "text/plain": [
       "<IPython.core.display.HTML object>"
      ]
     },
     "execution_count": 165,
     "metadata": {},
     "output_type": "execute_result"
    }
   ],
   "source": [
    "print(\"Test score :\", model.score(X_test, y_test))\n",
    "print(\"Train score :\", model.score(X_train, y_train))\n",
    "hide_toggle()"
   ]
  },
  {
   "cell_type": "code",
   "execution_count": 166,
   "id": "08d2b3c2",
   "metadata": {
    "slideshow": {
     "slide_type": "skip"
    }
   },
   "outputs": [
    {
     "data": {
      "image/png": "[encoded data removed]",
      "text/plain": [
       "<Figure size 432x288 with 1 Axes>"
      ]
     },
     "metadata": {
      "needs_background": "light"
     },
     "output_type": "display_data"
    },
    {
     "data": {
      "text/html": [
       "\n",
       "        <script>\n",
       "            function code_toggle_6080778729312559136() {\n",
       "                $('div.cell.code_cell.rendered.selected').find('div.input').toggle();\n",
       "            }\n",
       "\n",
       "            \n",
       "        </script>\n",
       "\n",
       "        <a href=\"javascript:code_toggle_6080778729312559136()\">Toggle show/hide</a>\n",
       "    "
      ],
      "text/plain": [
       "<IPython.core.display.HTML object>"
      ]
     },
     "execution_count": 166,
     "metadata": {},
     "output_type": "execute_result"
    }
   ],
   "source": [
    "#ROC curve\n",
    "plt.figure(figsize=(6,4))\n",
    "y_pred_proba = model.predict_proba(X_test)[::,1]\n",
    "fpr, tpr, _ = metrics.roc_curve(y_test,  y_pred_proba)\n",
    "plt.plot(fpr,tpr)\n",
    "plt.ylabel('True Positive Rate')\n",
    "plt.xlabel('False Positive Rate')\n",
    "plt.title(\"Roc Curse\\n\")\n",
    "plt.subplots_adjust(wspace=0.8)\n",
    "plt.show()\n",
    "hide_toggle()"
   ]
  },
  {
   "cell_type": "markdown",
   "id": "13ffd9ad-1d7d-4fd8-972d-b3c769c4ad16",
   "metadata": {
    "slideshow": {
     "slide_type": "slide"
    }
   },
   "source": [
    "### <a name=\"C9\">3.3. Optimisation </a>"
   ]
  },
  {
   "cell_type": "markdown",
   "id": "2daa78f2-62ad-4037-9e1c-69d25f8c5a71",
   "metadata": {
    "slideshow": {
     "slide_type": "fragment"
    }
   },
   "source": [
    "#### Méthode 1"
   ]
  },
  {
   "cell_type": "code",
   "execution_count": 167,
   "id": "9a93b245-d121-47a0-8abf-42364ccb93e0",
   "metadata": {
    "slideshow": {
     "slide_type": "fragment"
    }
   },
   "outputs": [
    {
     "data": {
      "text/html": [
       "<style>#sk-container-id-4 {color: black;background-color: white;}#sk-container-id-4 pre{padding: 0;}#sk-container-id-4 div.sk-toggleable {background-color: white;}#sk-container-id-4 label.sk-toggleable__label {cursor: pointer;display: block;width: 100%;margin-bottom: 0;padding: 0.3em;box-sizing: border-box;text-align: center;}#sk-container-id-4 label.sk-toggleable__label-arrow:before {content: \"▸\";float: left;margin-right: 0.25em;color: #696969;}#sk-container-id-4 label.sk-toggleable__label-arrow:hover:before {color: black;}#sk-container-id-4 div.sk-estimator:hover label.sk-toggleable__label-arrow:before {color: black;}#sk-container-id-4 div.sk-toggleable__content {max-height: 0;max-width: 0;overflow: hidden;text-align: left;background-color: #f0f8ff;}#sk-container-id-4 div.sk-toggleable__content pre {margin: 0.2em;color: black;border-radius: 0.25em;background-color: #f0f8ff;}#sk-container-id-4 input.sk-toggleable__control:checked~div.sk-toggleable__content {max-height: 200px;max-width: 100%;overflow: auto;}#sk-container-id-4 input.sk-toggleable__control:checked~label.sk-toggleable__label-arrow:before {content: \"▾\";}#sk-container-id-4 div.sk-estimator input.sk-toggleable__control:checked~label.sk-toggleable__label {background-color: #d4ebff;}#sk-container-id-4 div.sk-label input.sk-toggleable__control:checked~label.sk-toggleable__label {background-color: #d4ebff;}#sk-container-id-4 input.sk-hidden--visually {border: 0;clip: rect(1px 1px 1px 1px);clip: rect(1px, 1px, 1px, 1px);height: 1px;margin: -1px;overflow: hidden;padding: 0;position: absolute;width: 1px;}#sk-container-id-4 div.sk-estimator {font-family: monospace;background-color: #f0f8ff;border: 1px dotted black;border-radius: 0.25em;box-sizing: border-box;margin-bottom: 0.5em;}#sk-container-id-4 div.sk-estimator:hover {background-color: #d4ebff;}#sk-container-id-4 div.sk-parallel-item::after {content: \"\";width: 100%;border-bottom: 1px solid gray;flex-grow: 1;}#sk-container-id-4 div.sk-label:hover label.sk-toggleable__label {background-color: #d4ebff;}#sk-container-id-4 div.sk-serial::before {content: \"\";position: absolute;border-left: 1px solid gray;box-sizing: border-box;top: 0;bottom: 0;left: 50%;z-index: 0;}#sk-container-id-4 div.sk-serial {display: flex;flex-direction: column;align-items: center;background-color: white;padding-right: 0.2em;padding-left: 0.2em;position: relative;}#sk-container-id-4 div.sk-item {position: relative;z-index: 1;}#sk-container-id-4 div.sk-parallel {display: flex;align-items: stretch;justify-content: center;background-color: white;position: relative;}#sk-container-id-4 div.sk-item::before, #sk-container-id-4 div.sk-parallel-item::before {content: \"\";position: absolute;border-left: 1px solid gray;box-sizing: border-box;top: 0;bottom: 0;left: 50%;z-index: -1;}#sk-container-id-4 div.sk-parallel-item {display: flex;flex-direction: column;z-index: 1;position: relative;background-color: white;}#sk-container-id-4 div.sk-parallel-item:first-child::after {align-self: flex-end;width: 50%;}#sk-container-id-4 div.sk-parallel-item:last-child::after {align-self: flex-start;width: 50%;}#sk-container-id-4 div.sk-parallel-item:only-child::after {width: 0;}#sk-container-id-4 div.sk-dashed-wrapped {border: 1px dashed gray;margin: 0 0.4em 0.5em 0.4em;box-sizing: border-box;padding-bottom: 0.4em;background-color: white;}#sk-container-id-4 div.sk-label label {font-family: monospace;font-weight: bold;display: inline-block;line-height: 1.2em;}#sk-container-id-4 div.sk-label-container {text-align: center;}#sk-container-id-4 div.sk-container {/* jupyter's `normalize.less` sets `[hidden] { display: none; }` but bootstrap.min.css set `[hidden] { display: none !important; }` so we also need the `!important` here to be able to override the default hidden behavior on the sphinx rendered scikit-learn.org. See: https://github.com/scikit-learn/scikit-learn/issues/21755 */display: inline-block !important;position: relative;}#sk-container-id-4 div.sk-text-repr-fallback {display: none;}</style><div id=\"sk-container-id-4\" class=\"sk-top-container\"><div class=\"sk-text-repr-fallback\"><pre>GridSearchCV(cv=StratifiedKFold(n_splits=5, random_state=42, shuffle=True),\n",
       "             estimator=Pipeline(steps=[(&#x27;scaler&#x27;, StandardScaler()),\n",
       "                                       (&#x27;logistic&#x27;, LogisticRegression())]),\n",
       "             param_grid={&#x27;logistic__C&#x27;: [50, 1.0, 0.1, 0.01],\n",
       "                         &#x27;logistic__solver&#x27;: [&#x27;lbfgs&#x27;, &#x27;liblinear&#x27;, &#x27;sag&#x27;,\n",
       "                                              &#x27;saga&#x27;, &#x27;newton-cg&#x27;]})</pre><b>In a Jupyter environment, please rerun this cell to show the HTML representation or trust the notebook. <br />On GitHub, the HTML representation is unable to render, please try loading this page with nbviewer.org.</b></div><div class=\"sk-container\" hidden><div class=\"sk-item sk-dashed-wrapped\"><div class=\"sk-label-container\"><div class=\"sk-label sk-toggleable\"><input class=\"sk-toggleable__control sk-hidden--visually\" id=\"sk-estimator-id-12\" type=\"checkbox\" ><label for=\"sk-estimator-id-12\" class=\"sk-toggleable__label sk-toggleable__label-arrow\">GridSearchCV</label><div class=\"sk-toggleable__content\"><pre>GridSearchCV(cv=StratifiedKFold(n_splits=5, random_state=42, shuffle=True),\n",
       "             estimator=Pipeline(steps=[(&#x27;scaler&#x27;, StandardScaler()),\n",
       "                                       (&#x27;logistic&#x27;, LogisticRegression())]),\n",
       "             param_grid={&#x27;logistic__C&#x27;: [50, 1.0, 0.1, 0.01],\n",
       "                         &#x27;logistic__solver&#x27;: [&#x27;lbfgs&#x27;, &#x27;liblinear&#x27;, &#x27;sag&#x27;,\n",
       "                                              &#x27;saga&#x27;, &#x27;newton-cg&#x27;]})</pre></div></div></div><div class=\"sk-parallel\"><div class=\"sk-parallel-item\"><div class=\"sk-item\"><div class=\"sk-label-container\"><div class=\"sk-label sk-toggleable\"><input class=\"sk-toggleable__control sk-hidden--visually\" id=\"sk-estimator-id-13\" type=\"checkbox\" ><label for=\"sk-estimator-id-13\" class=\"sk-toggleable__label sk-toggleable__label-arrow\">estimator: Pipeline</label><div class=\"sk-toggleable__content\"><pre>Pipeline(steps=[(&#x27;scaler&#x27;, StandardScaler()),\n",
       "                (&#x27;logistic&#x27;, LogisticRegression())])</pre></div></div></div><div class=\"sk-serial\"><div class=\"sk-item\"><div class=\"sk-serial\"><div class=\"sk-item\"><div class=\"sk-estimator sk-toggleable\"><input class=\"sk-toggleable__control sk-hidden--visually\" id=\"sk-estimator-id-14\" type=\"checkbox\" ><label for=\"sk-estimator-id-14\" class=\"sk-toggleable__label sk-toggleable__label-arrow\">StandardScaler</label><div class=\"sk-toggleable__content\"><pre>StandardScaler()</pre></div></div></div><div class=\"sk-item\"><div class=\"sk-estimator sk-toggleable\"><input class=\"sk-toggleable__control sk-hidden--visually\" id=\"sk-estimator-id-15\" type=\"checkbox\" ><label for=\"sk-estimator-id-15\" class=\"sk-toggleable__label sk-toggleable__label-arrow\">LogisticRegression</label><div class=\"sk-toggleable__content\"><pre>LogisticRegression()</pre></div></div></div></div></div></div></div></div></div></div></div></div>"
      ],
      "text/plain": [
       "GridSearchCV(cv=StratifiedKFold(n_splits=5, random_state=42, shuffle=True),\n",
       "             estimator=Pipeline(steps=[('scaler', StandardScaler()),\n",
       "                                       ('logistic', LogisticRegression())]),\n",
       "             param_grid={'logistic__C': [50, 1.0, 0.1, 0.01],\n",
       "                         'logistic__solver': ['lbfgs', 'liblinear', 'sag',\n",
       "                                              'saga', 'newton-cg']})"
      ]
     },
     "execution_count": 167,
     "metadata": {},
     "output_type": "execute_result"
    }
   ],
   "source": [
    "cross_validation = StratifiedKFold(n_splits=5, shuffle=True, random_state=42)\n",
    "\n",
    "params = {\n",
    "    'logistic__solver': [\"lbfgs\", \"liblinear\", \"sag\", \"saga\",'newton-cg',],\n",
    "    'logistic__C': [50, 1.0, 0.1, 0.01]}\n",
    "\n",
    "model_opti = GridSearchCV(model, param_grid=params, cv=cross_validation )\n",
    "model_opti.fit(X_train, y_train)"
   ]
  },
  {
   "cell_type": "markdown",
   "id": "7a091acf",
   "metadata": {
    "slideshow": {
     "slide_type": "slide"
    }
   },
   "source": [
    "#### Évaluation"
   ]
  },
  {
   "cell_type": "code",
   "execution_count": 168,
   "id": "3919f9c7",
   "metadata": {
    "slideshow": {
     "slide_type": "skip"
    }
   },
   "outputs": [],
   "source": [
    "model_opti = model_opti.best_estimator_\n",
    "#Predictions\n",
    "y_pred_test1 = model_opti.predict(X_test)"
   ]
  },
  {
   "cell_type": "code",
   "execution_count": 169,
   "id": "9b164020",
   "metadata": {
    "slideshow": {
     "slide_type": "fragment"
    }
   },
   "outputs": [
    {
     "data": {
      "image/png": "[encoded data removed]",
      "text/plain": [
       "<Figure size 432x288 with 2 Axes>"
      ]
     },
     "metadata": {
      "needs_background": "light"
     },
     "output_type": "display_data"
    },
    {
     "data": {
      "text/html": [
       "\n",
       "        <script>\n",
       "            function code_toggle_8320147457555715019() {\n",
       "                $('div.cell.code_cell.rendered.selected').find('div.input').toggle();\n",
       "            }\n",
       "\n",
       "            \n",
       "        </script>\n",
       "\n",
       "        <a href=\"javascript:code_toggle_8320147457555715019()\">Toggle show/hide</a>\n",
       "    "
      ],
      "text/plain": [
       "<IPython.core.display.HTML object>"
      ]
     },
     "execution_count": 169,
     "metadata": {},
     "output_type": "execute_result"
    }
   ],
   "source": [
    "# Confusion matrix\n",
    "conf_matrix_reglog = pd.crosstab( y_test, y_pred_test1)\n",
    "plt.figure(figsize=(6,4))\n",
    "sns.heatmap(conf_matrix_reglog, annot = True, fmt = \".3g\", linewidths = 0.3)\n",
    "plt.xlabel(\"predictions\")\n",
    "plt.title(\"Confusion Matrix\\n\")\n",
    "plt.show()\n",
    "\n",
    "hide_toggle()"
   ]
  },
  {
   "cell_type": "code",
   "execution_count": 170,
   "id": "e0c578c2",
   "metadata": {
    "scrolled": true,
    "slideshow": {
     "slide_type": "fragment"
    }
   },
   "outputs": [
    {
     "name": "stdout",
     "output_type": "stream",
     "text": [
      "Test score : 0.9966666666666667\n",
      "Train score : 0.99\n"
     ]
    },
    {
     "data": {
      "text/html": [
       "\n",
       "        <script>\n",
       "            function code_toggle_998293349778126006() {\n",
       "                $('div.cell.code_cell.rendered.selected').find('div.input').toggle();\n",
       "            }\n",
       "\n",
       "            \n",
       "        </script>\n",
       "\n",
       "        <a href=\"javascript:code_toggle_998293349778126006()\">Toggle show/hide</a>\n",
       "    "
      ],
      "text/plain": [
       "<IPython.core.display.HTML object>"
      ]
     },
     "execution_count": 170,
     "metadata": {},
     "output_type": "execute_result"
    }
   ],
   "source": [
    "print(\"Test score :\", model_opti.score(X_test, y_test))\n",
    "print(\"Train score :\", model_opti.score(X_train, y_train))\n",
    "hide_toggle()"
   ]
  },
  {
   "cell_type": "markdown",
   "id": "e1871e21",
   "metadata": {
    "slideshow": {
     "slide_type": "slide"
    }
   },
   "source": [
    "#### Méthode 2"
   ]
  },
  {
   "cell_type": "code",
   "execution_count": 171,
   "id": "d16635e6-3716-41da-abb2-9c1165ef222d",
   "metadata": {
    "slideshow": {
     "slide_type": "fragment"
    }
   },
   "outputs": [
    {
     "data": {
      "text/html": [
       "<style>#sk-container-id-5 {color: black;background-color: white;}#sk-container-id-5 pre{padding: 0;}#sk-container-id-5 div.sk-toggleable {background-color: white;}#sk-container-id-5 label.sk-toggleable__label {cursor: pointer;display: block;width: 100%;margin-bottom: 0;padding: 0.3em;box-sizing: border-box;text-align: center;}#sk-container-id-5 label.sk-toggleable__label-arrow:before {content: \"▸\";float: left;margin-right: 0.25em;color: #696969;}#sk-container-id-5 label.sk-toggleable__label-arrow:hover:before {color: black;}#sk-container-id-5 div.sk-estimator:hover label.sk-toggleable__label-arrow:before {color: black;}#sk-container-id-5 div.sk-toggleable__content {max-height: 0;max-width: 0;overflow: hidden;text-align: left;background-color: #f0f8ff;}#sk-container-id-5 div.sk-toggleable__content pre {margin: 0.2em;color: black;border-radius: 0.25em;background-color: #f0f8ff;}#sk-container-id-5 input.sk-toggleable__control:checked~div.sk-toggleable__content {max-height: 200px;max-width: 100%;overflow: auto;}#sk-container-id-5 input.sk-toggleable__control:checked~label.sk-toggleable__label-arrow:before {content: \"▾\";}#sk-container-id-5 div.sk-estimator input.sk-toggleable__control:checked~label.sk-toggleable__label {background-color: #d4ebff;}#sk-container-id-5 div.sk-label input.sk-toggleable__control:checked~label.sk-toggleable__label {background-color: #d4ebff;}#sk-container-id-5 input.sk-hidden--visually {border: 0;clip: rect(1px 1px 1px 1px);clip: rect(1px, 1px, 1px, 1px);height: 1px;margin: -1px;overflow: hidden;padding: 0;position: absolute;width: 1px;}#sk-container-id-5 div.sk-estimator {font-family: monospace;background-color: #f0f8ff;border: 1px dotted black;border-radius: 0.25em;box-sizing: border-box;margin-bottom: 0.5em;}#sk-container-id-5 div.sk-estimator:hover {background-color: #d4ebff;}#sk-container-id-5 div.sk-parallel-item::after {content: \"\";width: 100%;border-bottom: 1px solid gray;flex-grow: 1;}#sk-container-id-5 div.sk-label:hover label.sk-toggleable__label {background-color: #d4ebff;}#sk-container-id-5 div.sk-serial::before {content: \"\";position: absolute;border-left: 1px solid gray;box-sizing: border-box;top: 0;bottom: 0;left: 50%;z-index: 0;}#sk-container-id-5 div.sk-serial {display: flex;flex-direction: column;align-items: center;background-color: white;padding-right: 0.2em;padding-left: 0.2em;position: relative;}#sk-container-id-5 div.sk-item {position: relative;z-index: 1;}#sk-container-id-5 div.sk-parallel {display: flex;align-items: stretch;justify-content: center;background-color: white;position: relative;}#sk-container-id-5 div.sk-item::before, #sk-container-id-5 div.sk-parallel-item::before {content: \"\";position: absolute;border-left: 1px solid gray;box-sizing: border-box;top: 0;bottom: 0;left: 50%;z-index: -1;}#sk-container-id-5 div.sk-parallel-item {display: flex;flex-direction: column;z-index: 1;position: relative;background-color: white;}#sk-container-id-5 div.sk-parallel-item:first-child::after {align-self: flex-end;width: 50%;}#sk-container-id-5 div.sk-parallel-item:last-child::after {align-self: flex-start;width: 50%;}#sk-container-id-5 div.sk-parallel-item:only-child::after {width: 0;}#sk-container-id-5 div.sk-dashed-wrapped {border: 1px dashed gray;margin: 0 0.4em 0.5em 0.4em;box-sizing: border-box;padding-bottom: 0.4em;background-color: white;}#sk-container-id-5 div.sk-label label {font-family: monospace;font-weight: bold;display: inline-block;line-height: 1.2em;}#sk-container-id-5 div.sk-label-container {text-align: center;}#sk-container-id-5 div.sk-container {/* jupyter's `normalize.less` sets `[hidden] { display: none; }` but bootstrap.min.css set `[hidden] { display: none !important; }` so we also need the `!important` here to be able to override the default hidden behavior on the sphinx rendered scikit-learn.org. See: https://github.com/scikit-learn/scikit-learn/issues/21755 */display: inline-block !important;position: relative;}#sk-container-id-5 div.sk-text-repr-fallback {display: none;}</style><div id=\"sk-container-id-5\" class=\"sk-top-container\"><div class=\"sk-text-repr-fallback\"><pre>Pipeline(steps=[(&#x27;scaler&#x27;, StandardScaler()),\n",
       "                (&#x27;logistic&#x27;, LogisticRegression())])</pre><b>In a Jupyter environment, please rerun this cell to show the HTML representation or trust the notebook. <br />On GitHub, the HTML representation is unable to render, please try loading this page with nbviewer.org.</b></div><div class=\"sk-container\" hidden><div class=\"sk-item sk-dashed-wrapped\"><div class=\"sk-label-container\"><div class=\"sk-label sk-toggleable\"><input class=\"sk-toggleable__control sk-hidden--visually\" id=\"sk-estimator-id-16\" type=\"checkbox\" ><label for=\"sk-estimator-id-16\" class=\"sk-toggleable__label sk-toggleable__label-arrow\">Pipeline</label><div class=\"sk-toggleable__content\"><pre>Pipeline(steps=[(&#x27;scaler&#x27;, StandardScaler()),\n",
       "                (&#x27;logistic&#x27;, LogisticRegression())])</pre></div></div></div><div class=\"sk-serial\"><div class=\"sk-item\"><div class=\"sk-estimator sk-toggleable\"><input class=\"sk-toggleable__control sk-hidden--visually\" id=\"sk-estimator-id-17\" type=\"checkbox\" ><label for=\"sk-estimator-id-17\" class=\"sk-toggleable__label sk-toggleable__label-arrow\">StandardScaler</label><div class=\"sk-toggleable__content\"><pre>StandardScaler()</pre></div></div></div><div class=\"sk-item\"><div class=\"sk-estimator sk-toggleable\"><input class=\"sk-toggleable__control sk-hidden--visually\" id=\"sk-estimator-id-18\" type=\"checkbox\" ><label for=\"sk-estimator-id-18\" class=\"sk-toggleable__label sk-toggleable__label-arrow\">LogisticRegression</label><div class=\"sk-toggleable__content\"><pre>LogisticRegression()</pre></div></div></div></div></div></div></div>"
      ],
      "text/plain": [
       "Pipeline(steps=[('scaler', StandardScaler()),\n",
       "                ('logistic', LogisticRegression())])"
      ]
     },
     "execution_count": 171,
     "metadata": {},
     "output_type": "execute_result"
    }
   ],
   "source": [
    "cross_validation = StratifiedKFold(n_splits=5, random_state=0, shuffle=True)\n",
    "accu_stratified = []\n",
    "accuracy = pd.Series(dtype=float)\n",
    "iteration = 0\n",
    "\n",
    "for train_index, test_index in cross_validation.split(X, y):\n",
    "    \n",
    "    iteration += 1 # short version of \"iteration = iteration + 1\"\n",
    "        \n",
    "    # Dataset d'entrainement\n",
    "    X_train, y_train = X.iloc[train_index], y.iloc[train_index]\n",
    "    # dataset de Test\n",
    "    X_test, y_test = X.iloc[test_index], y.iloc[test_index]\n",
    "    \n",
    "# Pipeline \n",
    "model_opti2 = Pipeline([('scaler', StandardScaler()), ('logistic', LogisticRegression())])\n",
    "model_opti2.fit(X_train, y_train)"
   ]
  },
  {
   "cell_type": "markdown",
   "id": "f719bd0e",
   "metadata": {
    "slideshow": {
     "slide_type": "slide"
    }
   },
   "source": [
    "#### Évaluation"
   ]
  },
  {
   "cell_type": "code",
   "execution_count": 172,
   "id": "e72a4f14",
   "metadata": {
    "slideshow": {
     "slide_type": "fragment"
    }
   },
   "outputs": [
    {
     "data": {
      "image/png": "[encoded data removed]",
      "text/plain": [
       "<Figure size 432x288 with 2 Axes>"
      ]
     },
     "metadata": {
      "needs_background": "light"
     },
     "output_type": "display_data"
    },
    {
     "data": {
      "text/html": [
       "\n",
       "        <script>\n",
       "            function code_toggle_16945024076798202306() {\n",
       "                $('div.cell.code_cell.rendered.selected').find('div.input').toggle();\n",
       "            }\n",
       "\n",
       "            \n",
       "        </script>\n",
       "\n",
       "        <a href=\"javascript:code_toggle_16945024076798202306()\">Toggle show/hide</a>\n",
       "    "
      ],
      "text/plain": [
       "<IPython.core.display.HTML object>"
      ]
     },
     "execution_count": 172,
     "metadata": {},
     "output_type": "execute_result"
    }
   ],
   "source": [
    "y_pred_test2 = model.predict(X_test)\n",
    "# Confusion matrix\n",
    "conf_matrix_reglog = pd.crosstab( y_test, y_pred_test2)\n",
    "plt.figure(figsize=(6,4))\n",
    "sns.heatmap(conf_matrix_reglog, annot = True, fmt = \".3g\", linewidths = 0.3)\n",
    "plt.xlabel(\"predictions\")\n",
    "plt.title(\"Confusion Matrix\\n\")\n",
    "plt.show()\n",
    "hide_toggle()"
   ]
  },
  {
   "cell_type": "code",
   "execution_count": 173,
   "id": "0f405626",
   "metadata": {
    "slideshow": {
     "slide_type": "fragment"
    }
   },
   "outputs": [
    {
     "name": "stdout",
     "output_type": "stream",
     "text": [
      "Test score : 1.0\n",
      "Train score : 0.99\n"
     ]
    },
    {
     "data": {
      "text/html": [
       "\n",
       "        <script>\n",
       "            function code_toggle_7343295194702356506() {\n",
       "                $('div.cell.code_cell.rendered.selected').find('div.input').toggle();\n",
       "            }\n",
       "\n",
       "            \n",
       "        </script>\n",
       "\n",
       "        <a href=\"javascript:code_toggle_7343295194702356506()\">Toggle show/hide</a>\n",
       "    "
      ],
      "text/plain": [
       "<IPython.core.display.HTML object>"
      ]
     },
     "execution_count": 173,
     "metadata": {},
     "output_type": "execute_result"
    }
   ],
   "source": [
    "print(\"Test score :\", model_opti2.score(X_test, y_test))\n",
    "print(\"Train score :\", model_opti2.score(X_train, y_train))\n",
    "hide_toggle()"
   ]
  },
  {
   "cell_type": "markdown",
   "id": "c0cf27cb-7ba7-4979-84cd-3a0d7b3f6be6",
   "metadata": {
    "slideshow": {
     "slide_type": "slide"
    }
   },
   "source": [
    "<center><h2> 4. Test des modèles </h2></center>  "
   ]
  },
  {
   "cell_type": "markdown",
   "id": "76a8773d-4f50-4fbc-87a3-dc23923c915d",
   "metadata": {
    "slideshow": {
     "slide_type": "slide"
    }
   },
   "source": [
    "### <a name=\"C10\"> 4.1. Préparation de l'échatillon</a>"
   ]
  },
  {
   "cell_type": "code",
   "execution_count": 174,
   "id": "ccb26dd5-19cb-4977-bb23-cee0026e3f86",
   "metadata": {
    "slideshow": {
     "slide_type": "fragment"
    }
   },
   "outputs": [
    {
     "name": "stdout",
     "output_type": "stream",
     "text": [
      "Aperçu du fichier à tester\n"
     ]
    },
    {
     "data": {
      "text/html": [
       "<div>\n",
       "<style scoped>\n",
       "    .dataframe tbody tr th:only-of-type {\n",
       "        vertical-align: middle;\n",
       "    }\n",
       "\n",
       "    .dataframe tbody tr th {\n",
       "        vertical-align: top;\n",
       "    }\n",
       "\n",
       "    .dataframe thead th {\n",
       "        text-align: right;\n",
       "    }\n",
       "</style>\n",
       "<table border=\"1\" class=\"dataframe\">\n",
       "  <thead>\n",
       "    <tr style=\"text-align: right;\">\n",
       "      <th></th>\n",
       "      <th>diagonal</th>\n",
       "      <th>height_left</th>\n",
       "      <th>height_right</th>\n",
       "      <th>margin_low</th>\n",
       "      <th>margin_up</th>\n",
       "      <th>length</th>\n",
       "      <th>id</th>\n",
       "    </tr>\n",
       "  </thead>\n",
       "  <tbody>\n",
       "    <tr>\n",
       "      <th>0</th>\n",
       "      <td>171.76</td>\n",
       "      <td>104.01</td>\n",
       "      <td>103.54</td>\n",
       "      <td>5.21</td>\n",
       "      <td>3.30</td>\n",
       "      <td>111.42</td>\n",
       "      <td>A_1</td>\n",
       "    </tr>\n",
       "    <tr>\n",
       "      <th>1</th>\n",
       "      <td>171.87</td>\n",
       "      <td>104.17</td>\n",
       "      <td>104.13</td>\n",
       "      <td>6.00</td>\n",
       "      <td>3.31</td>\n",
       "      <td>112.09</td>\n",
       "      <td>A_2</td>\n",
       "    </tr>\n",
       "    <tr>\n",
       "      <th>2</th>\n",
       "      <td>172.00</td>\n",
       "      <td>104.58</td>\n",
       "      <td>104.29</td>\n",
       "      <td>4.99</td>\n",
       "      <td>3.39</td>\n",
       "      <td>111.57</td>\n",
       "      <td>A_3</td>\n",
       "    </tr>\n",
       "    <tr>\n",
       "      <th>3</th>\n",
       "      <td>172.49</td>\n",
       "      <td>104.55</td>\n",
       "      <td>104.34</td>\n",
       "      <td>4.44</td>\n",
       "      <td>3.03</td>\n",
       "      <td>113.20</td>\n",
       "      <td>A_4</td>\n",
       "    </tr>\n",
       "    <tr>\n",
       "      <th>4</th>\n",
       "      <td>171.65</td>\n",
       "      <td>103.63</td>\n",
       "      <td>103.56</td>\n",
       "      <td>3.77</td>\n",
       "      <td>3.16</td>\n",
       "      <td>113.33</td>\n",
       "      <td>A_5</td>\n",
       "    </tr>\n",
       "  </tbody>\n",
       "</table>\n",
       "</div>"
      ],
      "text/plain": [
       "   diagonal  height_left  height_right  margin_low  margin_up  length   id\n",
       "0    171.76       104.01        103.54        5.21       3.30  111.42  A_1\n",
       "1    171.87       104.17        104.13        6.00       3.31  112.09  A_2\n",
       "2    172.00       104.58        104.29        4.99       3.39  111.57  A_3\n",
       "3    172.49       104.55        104.34        4.44       3.03  113.20  A_4\n",
       "4    171.65       103.63        103.56        3.77       3.16  113.33  A_5"
      ]
     },
     "metadata": {},
     "output_type": "display_data"
    },
    {
     "data": {
      "text/html": [
       "\n",
       "        <script>\n",
       "            function code_toggle_15662419338540811891() {\n",
       "                $('div.cell.code_cell.rendered.selected').find('div.input').toggle();\n",
       "            }\n",
       "\n",
       "            \n",
       "        </script>\n",
       "\n",
       "        <a href=\"javascript:code_toggle_15662419338540811891()\">Toggle show/hide</a>\n",
       "    "
      ],
      "text/plain": [
       "<IPython.core.display.HTML object>"
      ]
     },
     "execution_count": 174,
     "metadata": {},
     "output_type": "execute_result"
    }
   ],
   "source": [
    "# Fichier à tester\n",
    "billets_prod = pd.read_csv(\"./data/billets_production.csv\")\n",
    "print(\"Aperçu du fichier à tester\")\n",
    "display(billets_prod.head())\n",
    "hide_toggle()"
   ]
  },
  {
   "cell_type": "markdown",
   "id": "a66d9c06-b199-45da-a290-3874eaf04681",
   "metadata": {
    "slideshow": {
     "slide_type": "slide"
    }
   },
   "source": [
    "### <a name=\"C11\"> 4.2. Implémentation de la fonction test</a>"
   ]
  },
  {
   "cell_type": "markdown",
   "id": "8480e9e2-991d-46c0-a3aa-ff69b71b1b5d",
   "metadata": {
    "slideshow": {
     "slide_type": "fragment"
    }
   },
   "source": [
    "<b>On prépare la fonction contenant les modèles kmeans et regression logistique pour le test ...</b>"
   ]
  },
  {
   "cell_type": "code",
   "execution_count": 175,
   "id": "678fc19e-abde-4ab4-a6cd-2048978df3ae",
   "metadata": {
    "slideshow": {
     "slide_type": "slide"
    }
   },
   "outputs": [],
   "source": [
    "def fake_detect(data, model =\"logistic\"):\n",
    "    X = data[['diagonal', 'height_left', 'height_right', 'margin_low', 'margin_up','length']]\n",
    "    \n",
    "    if model == \"logistic\":\n",
    "        predictions = model_opti2.predict(X)\n",
    "        probas = model_opti2.predict_proba(X)\n",
    "        X['Probas_faux'] = probas[:,0]\n",
    "        X['Probas_vrais'] = probas[:,1]\n",
    "        X[\"Predictions\"] = predictions\n",
    "        X[\"Nature_billet\"] = X[\"Predictions\"].copy()\n",
    "        X[\"Nature_billet\"].replace([0,1],[\"Faux billet\", \"Vrai billet\"], inplace=True)\n",
    "        \n",
    "    elif model == \"kmeans\":\n",
    "        X = data[['diagonal', 'height_left', 'height_right', 'margin_low', 'margin_up','length']]\n",
    "        scaler = StandardScaler()\n",
    "        X2 = scaler.fit_transform(X)\n",
    "        clusters =  model_kmeans.predict(X2)\n",
    "        X[\"Predictions\"] = clusters\n",
    "        X[\"Nature_billet\"] = X[\"Predictions\"].copy()\n",
    "        X[\"Nature_billet\"].replace([0,1],[\"Vrai billet\", \"Faux billet\"], inplace=True)\n",
    "        \n",
    "    print(\" \"*50,\"*\"*50,\"\\n\")\n",
    "    print('\\033[1m' + \"Nombre total de billets : \" +  '\\033[0m',len(X))\n",
    "    print('\\033[1m' + \"Nombre de billets authentiques : \" +  '\\033[0m',len(X[X[\"Predictions\"]== 1]))\n",
    "    print('\\033[1m' + \"Nombre de faux billets : \" +  '\\033[0m',len(X[X[\"Predictions\"]== 0]), \"\\n\")\n",
    " \n",
    "    labels=[\"Faux billet\", \"Vrai billet\"]\n",
    "    sns.countplot(x=\"Nature_billet\", data=X, palette=[\"darkslategrey\",\"bisque\"])\n",
    "    plt.show()\n",
    "    print(\" \"*50,\"*\"*50,\"\\n\")\n"
   ]
  },
  {
   "cell_type": "markdown",
   "id": "d3a459d1-e319-4836-be03-9255824dcc07",
   "metadata": {
    "slideshow": {
     "slide_type": "slide"
    }
   },
   "source": [
    "### <a name=\"C12\"> 4.3. Résultats des tests</a>"
   ]
  },
  {
   "cell_type": "markdown",
   "id": "411e3d38",
   "metadata": {
    "slideshow": {
     "slide_type": "slide"
    }
   },
   "source": [
    "#### 4.3.1. Regression logistic"
   ]
  },
  {
   "cell_type": "code",
   "execution_count": 176,
   "id": "2058c6c8-da8a-4540-9442-c22664156c60",
   "metadata": {
    "slideshow": {
     "slide_type": "fragment"
    }
   },
   "outputs": [
    {
     "name": "stdout",
     "output_type": "stream",
     "text": [
      "                                                   ************************************************** \n",
      "\n",
      "\u001b[1mNombre total de billets : \u001b[0m 5\n",
      "\u001b[1mNombre de billets authentiques : \u001b[0m 2\n",
      "\u001b[1mNombre de faux billets : \u001b[0m 3 \n",
      "\n"
     ]
    },
    {
     "data": {
      "image/png": "[encoded data removed]",
      "text/plain": [
       "<Figure size 432x288 with 1 Axes>"
      ]
     },
     "metadata": {
      "needs_background": "light"
     },
     "output_type": "display_data"
    },
    {
     "name": "stdout",
     "output_type": "stream",
     "text": [
      "                                                   ************************************************** \n",
      "\n"
     ]
    }
   ],
   "source": [
    "fake_detect(billets_prod, model = \"logistic\")"
   ]
  },
  {
   "cell_type": "markdown",
   "id": "4ec6e5b0",
   "metadata": {
    "slideshow": {
     "slide_type": "slide"
    }
   },
   "source": [
    "#### 4.3.2. KMeans"
   ]
  },
  {
   "cell_type": "code",
   "execution_count": 177,
   "id": "2419959e",
   "metadata": {
    "slideshow": {
     "slide_type": "fragment"
    }
   },
   "outputs": [
    {
     "name": "stdout",
     "output_type": "stream",
     "text": [
      "                                                   ************************************************** \n",
      "\n",
      "\u001b[1mNombre total de billets : \u001b[0m 5\n",
      "\u001b[1mNombre de billets authentiques : \u001b[0m 3\n",
      "\u001b[1mNombre de faux billets : \u001b[0m 2 \n",
      "\n"
     ]
    },
    {
     "data": {
      "image/png": "[encoded data removed]",
      "text/plain": [
       "<Figure size 432x288 with 1 Axes>"
      ]
     },
     "metadata": {
      "needs_background": "light"
     },
     "output_type": "display_data"
    },
    {
     "name": "stdout",
     "output_type": "stream",
     "text": [
      "                                                   ************************************************** \n",
      "\n"
     ]
    }
   ],
   "source": [
    "fake_detect(billets_prod, model = \"kmeans\")"
   ]
  },
  {
   "cell_type": "markdown",
   "id": "a935fa3e-bba1-49d7-8af5-72eeca919e5d",
   "metadata": {
    "slideshow": {
     "slide_type": "slide"
    }
   },
   "source": [
    "<center><h2> 5. Streamlit App</h2></center>"
   ]
  },
  {
   "cell_type": "markdown",
   "id": "9fc817d6-df5b-466a-a929-2c382f1f58e5",
   "metadata": {
    "slideshow": {
     "slide_type": "fragment"
    }
   },
   "source": [
    "L'application a été développée sur vscode, elle a ensuite été deployée sur github puis share.streamlit\n",
    "\n",
    "Github repository : https://github.com/Alhasdata/FakeNotes_Dectector\n",
    "\n",
    "Streamlit share : https://alhasdata-fakenotes-dectector-main-ff5ra5.streamlitapp.com/"
   ]
  },
  {
   "cell_type": "code",
   "execution_count": null,
   "id": "c320b8fd",
   "metadata": {},
   "outputs": [
    {
     "data": {
      "text/html": [
       "<details>\n",
       "<summary>Click to view session information</summary>\n",
       "<pre>\n",
       "-----\n",
       "functions           NA\n",
       "matplotlib          3.5.2\n",
       "mpl_toolkits        NA\n",
       "numpy               1.23.1\n",
       "pandas              1.4.3\n",
       "pyspark             3.3.0\n",
       "researchpy          NA\n",
       "scipy               1.8.1\n",
       "seaborn             0.11.2\n",
       "session_info        1.0.0\n",
       "sklearn             1.1.1\n",
       "statsmodels         0.13.2\n",
       "-----\n",
       "</pre>\n",
       "<details>\n",
       "<summary>Click to view modules imported as dependencies</summary>\n",
       "<pre>\n",
       "PIL                 9.2.0\n",
       "asttokens           NA\n",
       "backcall            0.2.0\n",
       "beta_ufunc          NA\n",
       "binom_ufunc         NA\n",
       "cffi                1.15.1\n",
       "colorama            0.4.5\n",
       "cycler              0.10.0\n",
       "cython_runtime      NA\n",
       "dateutil            2.8.2\n",
       "debugpy             1.6.2\n",
       "decorator           5.1.1\n",
       "defusedxml          0.7.1\n",
       "entrypoints         0.4\n",
       "executing           0.8.3\n",
       "google              NA\n",
       "hypergeom_ufunc     NA\n",
       "ipykernel           6.15.1\n",
       "ipython_genutils    0.2.0\n",
       "ipywidgets          7.7.1\n",
       "jedi                0.18.1\n",
       "joblib              1.1.0\n",
       "jupyter_server      1.18.1\n",
       "kiwisolver          1.4.3\n",
       "matplotlib_inline   NA\n",
       "nbinom_ufunc        NA\n",
       "nt                  NA\n",
       "ntsecuritycon       NA\n",
       "packaging           21.3\n",
       "parso               0.8.3\n",
       "patsy               0.5.2\n",
       "pickleshare         0.7.5\n",
       "pkg_resources       NA\n",
       "prompt_toolkit      3.0.30\n",
       "psutil              5.9.1\n",
       "pure_eval           0.2.2\n",
       "py4j                0.10.9.5\n",
       "pyarrow             8.0.0\n",
       "pydev_ipython       NA\n",
       "pydevconsole        NA\n",
       "pydevd              2.8.0\n",
       "pydevd_file_utils   NA\n",
       "pydevd_plugins      NA\n",
       "pydevd_tracing      NA\n",
       "pygments            2.12.0\n",
       "pyparsing           3.0.9\n",
       "pythoncom           NA\n",
       "pytz                2022.1\n",
       "pywin32_bootstrap   NA\n",
       "pywin32_system32    NA\n",
       "pywintypes          NA\n",
       "six                 1.16.0\n",
       "stack_data          0.3.0\n",
       "threadpoolctl       3.1.0\n",
       "tornado             6.2\n",
       "traitlets           5.3.0\n",
       "typing_extensions   NA\n",
       "wcwidth             0.2.5\n",
       "win32api            NA\n",
       "win32com            NA\n",
       "win32security       NA\n",
       "zmq                 23.2.0\n",
       "</pre>\n",
       "</details> <!-- seems like this ends pre, so might as well be explicit -->\n",
       "<pre>\n",
       "-----\n",
       "IPython             8.4.0\n",
       "jupyter_client      7.3.4\n",
       "jupyter_core        4.11.1\n",
       "jupyterlab          3.4.3\n",
       "notebook            6.4.12\n",
       "-----\n",
       "Python 3.9.13 (tags/v3.9.13:6de2ca5, May 17 2022, 16:36:42) [MSC v.1929 64 bit (AMD64)]\n",
       "Windows-10-10.0.19044-SP0\n",
       "-----\n",
       "Session information updated at 2022-07-11 11:40\n",
       "</pre>\n",
       "</details>"
      ],
      "text/plain": [
       "<IPython.core.display.HTML object>"
      ]
     },
     "execution_count": 178,
     "metadata": {},
     "output_type": "execute_result"
    }
   ],
   "source": [
    "import session_info\n",
    "session_info.show()"
   ]
  },
  {
   "cell_type": "code",
   "execution_count": null,
   "id": "a406db0d-7180-4acc-85db-92a80db1e54b",
   "metadata": {},
   "outputs": [],
   "source": []
  }
 ],
 "metadata": {
  "celltoolbar": "Diaporama",
  "kernelspec": {
   "display_name": "Python 3 (ipykernel)",
   "language": "python",
   "name": "python3"
  },
  "language_info": {
   "codemirror_mode": {
    "name": "ipython",
    "version": 3
   },
   "file_extension": ".py",
   "mimetype": "text/x-python",
   "name": "python",
   "nbconvert_exporter": "python",
   "pygments_lexer": "ipython3",
   "version": "3.9.13"
  },
  "vscode": {
   "interpreter": {
    "hash": "51821db28fd33824c582bcaba0fc495d5b9f6c9770a82913ea0647b44d868247"
   }
  }
 },
 "nbformat": 4,
 "nbformat_minor": 5
}
